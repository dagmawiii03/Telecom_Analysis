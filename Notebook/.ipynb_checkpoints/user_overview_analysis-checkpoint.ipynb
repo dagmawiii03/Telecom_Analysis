{
 "cells": [
  {
   "cell_type": "markdown",
   "id": "c1925cf6",
   "metadata": {},
   "source": [
    "# User Overview Analysis"
   ]
  },
  {
   "cell_type": "code",
   "execution_count": 1,
   "id": "4ce8b15b",
   "metadata": {},
   "outputs": [],
   "source": [
    "import os\n",
    "import sys"
   ]
  },
  {
   "cell_type": "code",
   "execution_count": 3,
   "id": "bb6560b3",
   "metadata": {},
   "outputs": [],
   "source": [
    "sys.path.insert(0,'../scripts/')\n",
    "sys.path.append(os.path.abspath(os.path.join('scripts')))\n",
    "from clean_Telecom import DataCleaner "
   ]
  },
  {
   "cell_type": "code",
   "execution_count": 4,
   "id": "ebf06ba7",
   "metadata": {},
   "outputs": [],
   "source": [
    "import seaborn as sns\n",
    "import matplotlib.pyplot as plt\n",
    "%matplotlib inline\n",
    "from statistics import *\n",
    "import pandas as pd\n",
    "import numpy as np\n",
    "import warnings\n",
    "warnings.filterwarnings('ignore')"
   ]
  },
  {
   "cell_type": "code",
   "execution_count": null,
   "id": "f19fa8dc",
   "metadata": {},
   "outputs": [],
   "source": [
    "pd.set_option('max_column', None)\n",
    "df=pd.read_excel('../data/challenge_data_source.xlsx', na_values=['?', None])\n",
    "df.head()"
   ]
  },
  {
   "cell_type": "code",
   "execution_count": null,
   "id": "b452c5f2",
   "metadata": {},
   "outputs": [],
   "source": []
  }
 ],
 "metadata": {
  "kernelspec": {
   "display_name": "Python 3",
   "language": "python",
   "name": "python3"
  },
  "language_info": {
   "codemirror_mode": {
    "name": "ipython",
    "version": 3
   },
   "file_extension": ".py",
   "mimetype": "text/x-python",
   "name": "python",
   "nbconvert_exporter": "python",
   "pygments_lexer": "ipython3",
   "version": "3.8.8"
  }
 },
 "nbformat": 4,
 "nbformat_minor": 5
}
