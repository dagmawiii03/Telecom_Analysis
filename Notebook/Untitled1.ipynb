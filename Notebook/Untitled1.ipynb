{
 "cells": [
  {
   "cell_type": "code",
   "execution_count": 50,
   "id": "d86b8a5f",
   "metadata": {},
   "outputs": [],
   "source": [
    "import sys\n",
    "sys.path.insert(0,'../scripts/')\n",
    "import pandas as pd\n",
    "import numpy as np\n",
    "import seaborn as sns\n",
    "import matplotlib.pyplot as plt\n",
    "from graph import draw"
   ]
  },
  {
   "cell_type": "code",
   "execution_count": 51,
   "id": "912307f9",
   "metadata": {},
   "outputs": [
    {
     "data": {
      "text/html": [
       "<div>\n",
       "<style scoped>\n",
       "    .dataframe tbody tr th:only-of-type {\n",
       "        vertical-align: middle;\n",
       "    }\n",
       "\n",
       "    .dataframe tbody tr th {\n",
       "        vertical-align: top;\n",
       "    }\n",
       "\n",
       "    .dataframe thead th {\n",
       "        text-align: right;\n",
       "    }\n",
       "</style>\n",
       "<table border=\"1\" class=\"dataframe\">\n",
       "  <thead>\n",
       "    <tr style=\"text-align: right;\">\n",
       "      <th></th>\n",
       "      <th>Unnamed: 0</th>\n",
       "      <th>MSISDN/Number</th>\n",
       "      <th>no.of xDR sessions</th>\n",
       "      <th>Total Uploads</th>\n",
       "      <th>Total Downloads</th>\n",
       "      <th>Total_Uploads</th>\n",
       "      <th>Total_Downloads</th>\n",
       "      <th>Uploads</th>\n",
       "      <th>Downloads</th>\n",
       "      <th>Youtube_Total_Data</th>\n",
       "      <th>...</th>\n",
       "      <th>Handset Manufacturer</th>\n",
       "      <th>Handset Type</th>\n",
       "      <th>Last Location Name</th>\n",
       "      <th>IMSI</th>\n",
       "      <th>IMEI</th>\n",
       "      <th>Total UL and DL</th>\n",
       "      <th>Start</th>\n",
       "      <th>End</th>\n",
       "      <th>Avg Delay (ms)</th>\n",
       "      <th>Activity_Duration(ms)</th>\n",
       "    </tr>\n",
       "  </thead>\n",
       "  <tbody>\n",
       "    <tr>\n",
       "      <th>0</th>\n",
       "      <td>0</td>\n",
       "      <td>3.360100e+10</td>\n",
       "      <td>1</td>\n",
       "      <td>36.749740</td>\n",
       "      <td>480.62408</td>\n",
       "      <td>36.749740</td>\n",
       "      <td>480.62408</td>\n",
       "      <td>36.749740</td>\n",
       "      <td>480.62408</td>\n",
       "      <td>18.355944</td>\n",
       "      <td>...</td>\n",
       "      <td>Samsung</td>\n",
       "      <td>Samsung Galaxy A5 Sm-A520F</td>\n",
       "      <td>9164566995485190</td>\n",
       "      <td>2.082014e+14</td>\n",
       "      <td>3.552121e+13</td>\n",
       "      <td>345.62940</td>\n",
       "      <td>2019-04-04 12:01:18</td>\n",
       "      <td>2019-04-25 14:35:31</td>\n",
       "      <td>47.0</td>\n",
       "      <td>76.410995</td>\n",
       "    </tr>\n",
       "    <tr>\n",
       "      <th>1</th>\n",
       "      <td>1</td>\n",
       "      <td>3.360100e+10</td>\n",
       "      <td>1</td>\n",
       "      <td>53.800392</td>\n",
       "      <td>1180.28920</td>\n",
       "      <td>53.800392</td>\n",
       "      <td>1180.28920</td>\n",
       "      <td>53.800392</td>\n",
       "      <td>1180.28920</td>\n",
       "      <td>39.359123</td>\n",
       "      <td>...</td>\n",
       "      <td>Samsung</td>\n",
       "      <td>Samsung Galaxy J5 (Sm-J530)</td>\n",
       "      <td>L77566A</td>\n",
       "      <td>2.082019e+14</td>\n",
       "      <td>3.579401e+13</td>\n",
       "      <td>707.18536</td>\n",
       "      <td>2019-04-09 13:04:04</td>\n",
       "      <td>2019-04-25 08:15:48</td>\n",
       "      <td>70.0</td>\n",
       "      <td>3.728000</td>\n",
       "    </tr>\n",
       "    <tr>\n",
       "      <th>2</th>\n",
       "      <td>2</td>\n",
       "      <td>3.360100e+10</td>\n",
       "      <td>1</td>\n",
       "      <td>27.883638</td>\n",
       "      <td>690.49994</td>\n",
       "      <td>27.883638</td>\n",
       "      <td>690.49994</td>\n",
       "      <td>27.883638</td>\n",
       "      <td>690.49994</td>\n",
       "      <td>34.425236</td>\n",
       "      <td>...</td>\n",
       "      <td>Samsung</td>\n",
       "      <td>Samsung Galaxy A8 (2018)</td>\n",
       "      <td>D42335A</td>\n",
       "      <td>2.082003e+14</td>\n",
       "      <td>3.528151e+13</td>\n",
       "      <td>307.69098</td>\n",
       "      <td>2019-04-09 17:42:11</td>\n",
       "      <td>2019-04-25 11:58:13</td>\n",
       "      <td>50.0</td>\n",
       "      <td>0.000000</td>\n",
       "    </tr>\n",
       "    <tr>\n",
       "      <th>3</th>\n",
       "      <td>3</td>\n",
       "      <td>3.360101e+10</td>\n",
       "      <td>1</td>\n",
       "      <td>43.324220</td>\n",
       "      <td>1595.06840</td>\n",
       "      <td>43.324220</td>\n",
       "      <td>1595.06840</td>\n",
       "      <td>43.324220</td>\n",
       "      <td>1595.06840</td>\n",
       "      <td>36.534767</td>\n",
       "      <td>...</td>\n",
       "      <td>undefined</td>\n",
       "      <td>undefined</td>\n",
       "      <td>T21824A</td>\n",
       "      <td>2.082014e+14</td>\n",
       "      <td>3.535661e+13</td>\n",
       "      <td>889.35270</td>\n",
       "      <td>2019-04-10 00:31:25</td>\n",
       "      <td>2019-04-25 07:36:35</td>\n",
       "      <td>50.0</td>\n",
       "      <td>41.211998</td>\n",
       "    </tr>\n",
       "    <tr>\n",
       "      <th>4</th>\n",
       "      <td>4</td>\n",
       "      <td>3.360101e+10</td>\n",
       "      <td>2</td>\n",
       "      <td>38.542816</td>\n",
       "      <td>1119.84810</td>\n",
       "      <td>38.542816</td>\n",
       "      <td>1119.84810</td>\n",
       "      <td>38.542816</td>\n",
       "      <td>1119.84810</td>\n",
       "      <td>34.222250</td>\n",
       "      <td>...</td>\n",
       "      <td>Samsung</td>\n",
       "      <td>Samsung Sm-G390F</td>\n",
       "      <td>D88865A</td>\n",
       "      <td>2.082014e+14</td>\n",
       "      <td>3.540701e+13</td>\n",
       "      <td>607.68140</td>\n",
       "      <td>2019-04-12 20:10:23</td>\n",
       "      <td>2019-04-25 10:40:32</td>\n",
       "      <td>50.0</td>\n",
       "      <td>0.000000</td>\n",
       "    </tr>\n",
       "  </tbody>\n",
       "</table>\n",
       "<p>5 rows × 27 columns</p>\n",
       "</div>"
      ],
      "text/plain": [
       "   Unnamed: 0  MSISDN/Number  no.of xDR sessions  Total Uploads  \\\n",
       "0           0   3.360100e+10                   1      36.749740   \n",
       "1           1   3.360100e+10                   1      53.800392   \n",
       "2           2   3.360100e+10                   1      27.883638   \n",
       "3           3   3.360101e+10                   1      43.324220   \n",
       "4           4   3.360101e+10                   2      38.542816   \n",
       "\n",
       "   Total Downloads  Total_Uploads  Total_Downloads    Uploads   Downloads  \\\n",
       "0        480.62408      36.749740        480.62408  36.749740   480.62408   \n",
       "1       1180.28920      53.800392       1180.28920  53.800392  1180.28920   \n",
       "2        690.49994      27.883638        690.49994  27.883638   690.49994   \n",
       "3       1595.06840      43.324220       1595.06840  43.324220  1595.06840   \n",
       "4       1119.84810      38.542816       1119.84810  38.542816  1119.84810   \n",
       "\n",
       "   Youtube_Total_Data  ...  Handset Manufacturer                 Handset Type  \\\n",
       "0           18.355944  ...               Samsung   Samsung Galaxy A5 Sm-A520F   \n",
       "1           39.359123  ...               Samsung  Samsung Galaxy J5 (Sm-J530)   \n",
       "2           34.425236  ...               Samsung     Samsung Galaxy A8 (2018)   \n",
       "3           36.534767  ...             undefined                    undefined   \n",
       "4           34.222250  ...               Samsung             Samsung Sm-G390F   \n",
       "\n",
       "   Last Location Name          IMSI          IMEI  Total UL and DL  \\\n",
       "0    9164566995485190  2.082014e+14  3.552121e+13        345.62940   \n",
       "1             L77566A  2.082019e+14  3.579401e+13        707.18536   \n",
       "2             D42335A  2.082003e+14  3.528151e+13        307.69098   \n",
       "3             T21824A  2.082014e+14  3.535661e+13        889.35270   \n",
       "4             D88865A  2.082014e+14  3.540701e+13        607.68140   \n",
       "\n",
       "                 Start                  End Avg Delay (ms)  \\\n",
       "0  2019-04-04 12:01:18  2019-04-25 14:35:31           47.0   \n",
       "1  2019-04-09 13:04:04  2019-04-25 08:15:48           70.0   \n",
       "2  2019-04-09 17:42:11  2019-04-25 11:58:13           50.0   \n",
       "3  2019-04-10 00:31:25  2019-04-25 07:36:35           50.0   \n",
       "4  2019-04-12 20:10:23  2019-04-25 10:40:32           50.0   \n",
       "\n",
       "  Activity_Duration(ms)  \n",
       "0             76.410995  \n",
       "1              3.728000  \n",
       "2              0.000000  \n",
       "3             41.211998  \n",
       "4              0.000000  \n",
       "\n",
       "[5 rows x 27 columns]"
      ]
     },
     "execution_count": 51,
     "metadata": {},
     "output_type": "execute_result"
    }
   ],
   "source": [
    "db = pd.read_csv('../data/cleaner_telecom.csv', na_values=['?', None])\n",
    "db.head()"
   ]
  },
  {
   "cell_type": "markdown",
   "id": "c1835f36",
   "metadata": {},
   "source": [
    "# Exploring Data"
   ]
  },
  {
   "cell_type": "code",
   "execution_count": 30,
   "id": "17f645b3",
   "metadata": {},
   "outputs": [
    {
     "data": {
      "text/plain": [
       "['Unnamed: 0',\n",
       " 'MSISDN/Number',\n",
       " 'no.of xDR sessions',\n",
       " 'Total Uploads',\n",
       " 'Total Downloads',\n",
       " 'Total_Uploads',\n",
       " 'Total_Downloads',\n",
       " 'Uploads',\n",
       " 'Downloads',\n",
       " 'Youtube_Total_Data',\n",
       " 'Google_Total_Data',\n",
       " 'Email_Total_Data',\n",
       " 'Social_Media_Total_Data',\n",
       " 'Netflix_Total_Data',\n",
       " 'Gaming_Total_Data',\n",
       " 'Other_Total_Data',\n",
       " 'Avg Throughput (kbps)',\n",
       " 'Handset Manufacturer',\n",
       " 'Handset Type',\n",
       " 'Last Location Name',\n",
       " 'IMSI',\n",
       " 'IMEI',\n",
       " 'Total UL and DL',\n",
       " 'Start',\n",
       " 'End',\n",
       " 'Avg Delay (ms)',\n",
       " 'Activity_Duration(ms)']"
      ]
     },
     "execution_count": 30,
     "metadata": {},
     "output_type": "execute_result"
    }
   ],
   "source": [
    "#we have to see the outline of the data before cleaning\n",
    "db.columns.tolist()"
   ]
  },
  {
   "cell_type": "code",
   "execution_count": 31,
   "id": "693768ab",
   "metadata": {},
   "outputs": [
    {
     "data": {
      "text/plain": [
       "(106856, 27)"
      ]
     },
     "execution_count": 31,
     "metadata": {},
     "output_type": "execute_result"
    }
   ],
   "source": [
    "#explore the various data points by describing the data\n",
    "db.shape"
   ]
  },
  {
   "cell_type": "markdown",
   "id": "ebd5ffea",
   "metadata": {},
   "source": [
    "# Handling Missing values"
   ]
  },
  {
   "cell_type": "code",
   "execution_count": 32,
   "id": "9a88fdd6",
   "metadata": {},
   "outputs": [
    {
     "name": "stdout",
     "output_type": "stream",
     "text": [
      "The Dataset contains 0.0 % missing values.\n"
     ]
    }
   ],
   "source": [
    "def percent_missing(df):\n",
    "    total_cells= np.product(df.shape)       #total number of cells in the dataframe\n",
    "    \n",
    "    missing_count= df.isnull().sum()        #sum of empty cells  per column\n",
    "    \n",
    "    totally_missing = missing_count.sum()   #total of all missing in the dataframe \n",
    "    \n",
    "    print(\"The Dataset contains\", round(((totally_missing/total_cells) * 100), 2), \"%\", \"missing values.\")  #totally_missing percentage\n",
    "\n",
    "percent_missing(db)\n",
    "    \n",
    "    "
   ]
  },
  {
   "cell_type": "markdown",
   "id": "8c658874",
   "metadata": {},
   "source": [
    "# Transforming Data"
   ]
  },
  {
   "cell_type": "code",
   "execution_count": 33,
   "id": "98140cef",
   "metadata": {},
   "outputs": [
    {
     "data": {
      "text/html": [
       "<div>\n",
       "<style scoped>\n",
       "    .dataframe tbody tr th:only-of-type {\n",
       "        vertical-align: middle;\n",
       "    }\n",
       "\n",
       "    .dataframe tbody tr th {\n",
       "        vertical-align: top;\n",
       "    }\n",
       "\n",
       "    .dataframe thead th {\n",
       "        text-align: right;\n",
       "    }\n",
       "</style>\n",
       "<table border=\"1\" class=\"dataframe\">\n",
       "  <thead>\n",
       "    <tr style=\"text-align: right;\">\n",
       "      <th></th>\n",
       "      <th>0</th>\n",
       "    </tr>\n",
       "  </thead>\n",
       "  <tbody>\n",
       "    <tr>\n",
       "      <th>1106</th>\n",
       "      <td>129.496591</td>\n",
       "    </tr>\n",
       "    <tr>\n",
       "      <th>1894</th>\n",
       "      <td>11.732351</td>\n",
       "    </tr>\n",
       "    <tr>\n",
       "      <th>818</th>\n",
       "      <td>92.907625</td>\n",
       "    </tr>\n",
       "    <tr>\n",
       "      <th>917</th>\n",
       "      <td>14.798014</td>\n",
       "    </tr>\n",
       "    <tr>\n",
       "      <th>1330</th>\n",
       "      <td>267.868470</td>\n",
       "    </tr>\n",
       "  </tbody>\n",
       "</table>\n",
       "</div>"
      ],
      "text/plain": [
       "               0\n",
       "1106  129.496591\n",
       "1894   11.732351\n",
       "818    92.907625\n",
       "917    14.798014\n",
       "1330  267.868470"
      ]
     },
     "execution_count": 33,
     "metadata": {},
     "output_type": "execute_result"
    }
   ],
   "source": [
    "#SCALING\n",
    "from sklearn.preprocessing import MinMaxScaler\n",
    "\n",
    "minmax_scaler = MinMaxScaler()\n",
    "\n",
    "# generate 1000 data points randomly drawn from an exponential distribution\n",
    "original_data = pd.DataFrame(np.random.exponential(200, size=2000))\n",
    "\n",
    "original_data.sample(5)"
   ]
  },
  {
   "cell_type": "code",
   "execution_count": 34,
   "id": "4b07da19",
   "metadata": {},
   "outputs": [
    {
     "data": {
      "text/plain": [
       "(0.08606829135925231, 1541.0096677053505)"
      ]
     },
     "execution_count": 34,
     "metadata": {},
     "output_type": "execute_result"
    }
   ],
   "source": [
    "original_data[0].min(), original_data[0].max()"
   ]
  },
  {
   "cell_type": "code",
   "execution_count": 35,
   "id": "5f11bba1",
   "metadata": {},
   "outputs": [
    {
     "data": {
      "image/png": "[encoded data removed]",
      "text/plain": [
       "<Figure size 432x288 with 1 Axes>"
      ]
     },
     "metadata": {
      "needs_background": "light"
     },
     "output_type": "display_data"
    }
   ],
   "source": [
    "count, bins, ignored = plt.hist(original_data, 14)\n",
    "plt.show()"
   ]
  },
  {
   "cell_type": "code",
   "execution_count": 36,
   "id": "e9c28f69",
   "metadata": {},
   "outputs": [
    {
     "data": {
      "image/png": "[encoded data removed]",
      "text/plain": [
       "<Figure size 720x432 with 2 Axes>"
      ]
     },
     "metadata": {
      "needs_background": "light"
     },
     "output_type": "display_data"
    }
   ],
   "source": [
    "# mix-max scale the data between 0 and 1\n",
    "def scaler(df):\n",
    "    scaled_data = minmax_scaler.fit_transform(df)\n",
    "\n",
    "    # plot both together to compare\n",
    "    fig, ax = plt.subplots(1,2, figsize=(10, 6))\n",
    "    sns.histplot(original_data, ax=ax[0])\n",
    "    ax[0].set_title(\"Original Data\")\n",
    "    sns.histplot(scaled_data, ax=ax[1])\n",
    "    ax[1].set_title(\"Scaled data\")\n",
    "    \n",
    "scaler(original_data)"
   ]
  },
  {
   "cell_type": "code",
   "execution_count": 12,
   "id": "e994760f",
   "metadata": {},
   "outputs": [
    {
     "data": {
      "image/png": "[encoded data removed]",
      "text/plain": [
       "<Figure size 720x432 with 2 Axes>"
      ]
     },
     "metadata": {
      "needs_background": "light"
     },
     "output_type": "display_data"
    }
   ],
   "source": [
    "#NORMALIZATION\n",
    "\n",
    "from sklearn.preprocessing import Normalizer\n",
    "\n",
    "def normalizer(df):\n",
    "    norm = Normalizer()\n",
    "    # normalize the exponential data with boxcox\n",
    "    normalized_data = norm.fit_transform(df)\n",
    "\n",
    "    # plot both together to compare\n",
    "    fig, ax=plt.subplots(1,2, figsize=(10, 6))\n",
    "    sns.histplot(df, ax=ax[0])\n",
    "    ax[0].set_title(\"Original Data\")\n",
    "    sns.histplot(normalized_data[0], ax=ax[1])\n",
    "    ax[1].set_title(\"Normalized data\")\n",
    "\n",
    "normalizer(original_data)"
   ]
  },
  {
   "cell_type": "code",
   "execution_count": 37,
   "id": "98c0b002",
   "metadata": {},
   "outputs": [
    {
     "name": "stdout",
     "output_type": "stream",
     "text": [
      "<class 'pandas.core.frame.DataFrame'>\n",
      "RangeIndex: 106856 entries, 0 to 106855\n",
      "Data columns (total 27 columns):\n",
      " #   Column                   Non-Null Count   Dtype  \n",
      "---  ------                   --------------   -----  \n",
      " 0   Unnamed: 0               106856 non-null  int64  \n",
      " 1   MSISDN/Number            106856 non-null  float64\n",
      " 2   no.of xDR sessions       106856 non-null  int64  \n",
      " 3   Total Uploads            106856 non-null  float64\n",
      " 4   Total Downloads          106856 non-null  float64\n",
      " 5   Total_Uploads            106856 non-null  float64\n",
      " 6   Total_Downloads          106856 non-null  float64\n",
      " 7   Uploads                  106856 non-null  float64\n",
      " 8   Downloads                106856 non-null  float64\n",
      " 9   Youtube_Total_Data       106856 non-null  float64\n",
      " 10  Google_Total_Data        106856 non-null  float64\n",
      " 11  Email_Total_Data         106856 non-null  float64\n",
      " 12  Social_Media_Total_Data  106856 non-null  float64\n",
      " 13  Netflix_Total_Data       106856 non-null  float64\n",
      " 14  Gaming_Total_Data        106856 non-null  float64\n",
      " 15  Other_Total_Data         106856 non-null  float64\n",
      " 16  Avg Throughput (kbps)    106856 non-null  float64\n",
      " 17  Handset Manufacturer     106856 non-null  object \n",
      " 18  Handset Type             106856 non-null  object \n",
      " 19  Last Location Name       106856 non-null  object \n",
      " 20  IMSI                     106856 non-null  float64\n",
      " 21  IMEI                     106856 non-null  float64\n",
      " 22  Total UL and DL          106856 non-null  float64\n",
      " 23  Start                    106856 non-null  object \n",
      " 24  End                      106856 non-null  object \n",
      " 25  Avg Delay (ms)           106856 non-null  float64\n",
      " 26  Activity_Duration(ms)    106856 non-null  float64\n",
      "dtypes: float64(20), int64(2), object(5)\n",
      "memory usage: 22.0+ MB\n"
     ]
    }
   ],
   "source": [
    "# check datatypes\n",
    "db.info()"
   ]
  },
  {
   "cell_type": "markdown",
   "id": "a65dbb56",
   "metadata": {},
   "source": [
    "# Exploration "
   ]
  },
  {
   "cell_type": "code",
   "execution_count": 38,
   "id": "b554e6c3",
   "metadata": {},
   "outputs": [
    {
     "data": {
      "text/html": [
       "<div>\n",
       "<style scoped>\n",
       "    .dataframe tbody tr th:only-of-type {\n",
       "        vertical-align: middle;\n",
       "    }\n",
       "\n",
       "    .dataframe tbody tr th {\n",
       "        vertical-align: top;\n",
       "    }\n",
       "\n",
       "    .dataframe thead th {\n",
       "        text-align: right;\n",
       "    }\n",
       "</style>\n",
       "<table border=\"1\" class=\"dataframe\">\n",
       "  <thead>\n",
       "    <tr style=\"text-align: right;\">\n",
       "      <th></th>\n",
       "      <th>Unnamed: 0</th>\n",
       "      <th>MSISDN/Number</th>\n",
       "      <th>no.of xDR sessions</th>\n",
       "      <th>Total Uploads</th>\n",
       "      <th>Total Downloads</th>\n",
       "      <th>Total_Uploads</th>\n",
       "      <th>Total_Downloads</th>\n",
       "      <th>Uploads</th>\n",
       "      <th>Downloads</th>\n",
       "      <th>Youtube_Total_Data</th>\n",
       "      <th>...</th>\n",
       "      <th>Handset Manufacturer</th>\n",
       "      <th>Handset Type</th>\n",
       "      <th>Last Location Name</th>\n",
       "      <th>IMSI</th>\n",
       "      <th>IMEI</th>\n",
       "      <th>Total UL and DL</th>\n",
       "      <th>Start</th>\n",
       "      <th>End</th>\n",
       "      <th>Avg Delay (ms)</th>\n",
       "      <th>Activity_Duration(ms)</th>\n",
       "    </tr>\n",
       "  </thead>\n",
       "  <tbody>\n",
       "    <tr>\n",
       "      <th>0</th>\n",
       "      <td>0</td>\n",
       "      <td>3.360100e+10</td>\n",
       "      <td>1</td>\n",
       "      <td>36.749740</td>\n",
       "      <td>480.62408</td>\n",
       "      <td>36.749740</td>\n",
       "      <td>480.62408</td>\n",
       "      <td>36.749740</td>\n",
       "      <td>480.62408</td>\n",
       "      <td>18.355944</td>\n",
       "      <td>...</td>\n",
       "      <td>Samsung</td>\n",
       "      <td>Samsung Galaxy A5 Sm-A520F</td>\n",
       "      <td>9164566995485190</td>\n",
       "      <td>2.082014e+14</td>\n",
       "      <td>3.552121e+13</td>\n",
       "      <td>345.62940</td>\n",
       "      <td>2019-04-04 12:01:18</td>\n",
       "      <td>2019-04-25 14:35:31</td>\n",
       "      <td>47.0</td>\n",
       "      <td>76.410995</td>\n",
       "    </tr>\n",
       "    <tr>\n",
       "      <th>1</th>\n",
       "      <td>1</td>\n",
       "      <td>3.360100e+10</td>\n",
       "      <td>1</td>\n",
       "      <td>53.800392</td>\n",
       "      <td>1180.28920</td>\n",
       "      <td>53.800392</td>\n",
       "      <td>1180.28920</td>\n",
       "      <td>53.800392</td>\n",
       "      <td>1180.28920</td>\n",
       "      <td>39.359123</td>\n",
       "      <td>...</td>\n",
       "      <td>Samsung</td>\n",
       "      <td>Samsung Galaxy J5 (Sm-J530)</td>\n",
       "      <td>L77566A</td>\n",
       "      <td>2.082019e+14</td>\n",
       "      <td>3.579401e+13</td>\n",
       "      <td>707.18536</td>\n",
       "      <td>2019-04-09 13:04:04</td>\n",
       "      <td>2019-04-25 08:15:48</td>\n",
       "      <td>70.0</td>\n",
       "      <td>3.728000</td>\n",
       "    </tr>\n",
       "    <tr>\n",
       "      <th>2</th>\n",
       "      <td>2</td>\n",
       "      <td>3.360100e+10</td>\n",
       "      <td>1</td>\n",
       "      <td>27.883638</td>\n",
       "      <td>690.49994</td>\n",
       "      <td>27.883638</td>\n",
       "      <td>690.49994</td>\n",
       "      <td>27.883638</td>\n",
       "      <td>690.49994</td>\n",
       "      <td>34.425236</td>\n",
       "      <td>...</td>\n",
       "      <td>Samsung</td>\n",
       "      <td>Samsung Galaxy A8 (2018)</td>\n",
       "      <td>D42335A</td>\n",
       "      <td>2.082003e+14</td>\n",
       "      <td>3.528151e+13</td>\n",
       "      <td>307.69098</td>\n",
       "      <td>2019-04-09 17:42:11</td>\n",
       "      <td>2019-04-25 11:58:13</td>\n",
       "      <td>50.0</td>\n",
       "      <td>0.000000</td>\n",
       "    </tr>\n",
       "    <tr>\n",
       "      <th>3</th>\n",
       "      <td>3</td>\n",
       "      <td>3.360101e+10</td>\n",
       "      <td>1</td>\n",
       "      <td>43.324220</td>\n",
       "      <td>1595.06840</td>\n",
       "      <td>43.324220</td>\n",
       "      <td>1595.06840</td>\n",
       "      <td>43.324220</td>\n",
       "      <td>1595.06840</td>\n",
       "      <td>36.534767</td>\n",
       "      <td>...</td>\n",
       "      <td>undefined</td>\n",
       "      <td>undefined</td>\n",
       "      <td>T21824A</td>\n",
       "      <td>2.082014e+14</td>\n",
       "      <td>3.535661e+13</td>\n",
       "      <td>889.35270</td>\n",
       "      <td>2019-04-10 00:31:25</td>\n",
       "      <td>2019-04-25 07:36:35</td>\n",
       "      <td>50.0</td>\n",
       "      <td>41.211998</td>\n",
       "    </tr>\n",
       "    <tr>\n",
       "      <th>4</th>\n",
       "      <td>4</td>\n",
       "      <td>3.360101e+10</td>\n",
       "      <td>2</td>\n",
       "      <td>38.542816</td>\n",
       "      <td>1119.84810</td>\n",
       "      <td>38.542816</td>\n",
       "      <td>1119.84810</td>\n",
       "      <td>38.542816</td>\n",
       "      <td>1119.84810</td>\n",
       "      <td>34.222250</td>\n",
       "      <td>...</td>\n",
       "      <td>Samsung</td>\n",
       "      <td>Samsung Sm-G390F</td>\n",
       "      <td>D88865A</td>\n",
       "      <td>2.082014e+14</td>\n",
       "      <td>3.540701e+13</td>\n",
       "      <td>607.68140</td>\n",
       "      <td>2019-04-12 20:10:23</td>\n",
       "      <td>2019-04-25 10:40:32</td>\n",
       "      <td>50.0</td>\n",
       "      <td>0.000000</td>\n",
       "    </tr>\n",
       "    <tr>\n",
       "      <th>...</th>\n",
       "      <td>...</td>\n",
       "      <td>...</td>\n",
       "      <td>...</td>\n",
       "      <td>...</td>\n",
       "      <td>...</td>\n",
       "      <td>...</td>\n",
       "      <td>...</td>\n",
       "      <td>...</td>\n",
       "      <td>...</td>\n",
       "      <td>...</td>\n",
       "      <td>...</td>\n",
       "      <td>...</td>\n",
       "      <td>...</td>\n",
       "      <td>...</td>\n",
       "      <td>...</td>\n",
       "      <td>...</td>\n",
       "      <td>...</td>\n",
       "      <td>...</td>\n",
       "      <td>...</td>\n",
       "      <td>...</td>\n",
       "      <td>...</td>\n",
       "    </tr>\n",
       "    <tr>\n",
       "      <th>106851</th>\n",
       "      <td>106851</td>\n",
       "      <td>3.379000e+10</td>\n",
       "      <td>1</td>\n",
       "      <td>50.528850</td>\n",
       "      <td>871.01940</td>\n",
       "      <td>50.528850</td>\n",
       "      <td>871.01940</td>\n",
       "      <td>50.528850</td>\n",
       "      <td>871.01940</td>\n",
       "      <td>24.109232</td>\n",
       "      <td>...</td>\n",
       "      <td>Apple</td>\n",
       "      <td>Apple iPhone 6 Plus (A1524)</td>\n",
       "      <td>D79698A</td>\n",
       "      <td>2.082017e+14</td>\n",
       "      <td>3.592491e+13</td>\n",
       "      <td>349.05720</td>\n",
       "      <td>2019-04-27 12:29:02</td>\n",
       "      <td>2019-04-29 10:52:19</td>\n",
       "      <td>1106.0</td>\n",
       "      <td>15.715000</td>\n",
       "    </tr>\n",
       "    <tr>\n",
       "      <th>106852</th>\n",
       "      <td>106852</td>\n",
       "      <td>3.379000e+10</td>\n",
       "      <td>1</td>\n",
       "      <td>43.206300</td>\n",
       "      <td>956.12280</td>\n",
       "      <td>43.206300</td>\n",
       "      <td>956.12280</td>\n",
       "      <td>43.206300</td>\n",
       "      <td>956.12280</td>\n",
       "      <td>23.704700</td>\n",
       "      <td>...</td>\n",
       "      <td>Apple</td>\n",
       "      <td>Apple iPhone 6S (A1688)</td>\n",
       "      <td>D72312C</td>\n",
       "      <td>2.082015e+14</td>\n",
       "      <td>3.561371e+13</td>\n",
       "      <td>197.80980</td>\n",
       "      <td>2019-04-27 12:29:08</td>\n",
       "      <td>2019-04-29 08:23:38</td>\n",
       "      <td>39.0</td>\n",
       "      <td>80.697010</td>\n",
       "    </tr>\n",
       "    <tr>\n",
       "      <th>106853</th>\n",
       "      <td>106853</td>\n",
       "      <td>3.197021e+12</td>\n",
       "      <td>1</td>\n",
       "      <td>41.173542</td>\n",
       "      <td>655.69380</td>\n",
       "      <td>41.173542</td>\n",
       "      <td>655.69380</td>\n",
       "      <td>41.173542</td>\n",
       "      <td>655.69380</td>\n",
       "      <td>23.619537</td>\n",
       "      <td>...</td>\n",
       "      <td>undefined</td>\n",
       "      <td>undefined</td>\n",
       "      <td>L35995B</td>\n",
       "      <td>2.082019e+14</td>\n",
       "      <td>3.536981e+13</td>\n",
       "      <td>132.33066</td>\n",
       "      <td>2019-04-27 12:29:20</td>\n",
       "      <td>2019-04-29 12:06:29</td>\n",
       "      <td>50.0</td>\n",
       "      <td>0.000000</td>\n",
       "    </tr>\n",
       "    <tr>\n",
       "      <th>106854</th>\n",
       "      <td>106854</td>\n",
       "      <td>3.370000e+14</td>\n",
       "      <td>1</td>\n",
       "      <td>49.497055</td>\n",
       "      <td>832.70605</td>\n",
       "      <td>49.497055</td>\n",
       "      <td>832.70605</td>\n",
       "      <td>49.497055</td>\n",
       "      <td>832.70605</td>\n",
       "      <td>36.713303</td>\n",
       "      <td>...</td>\n",
       "      <td>Apple</td>\n",
       "      <td>Apple iPhone 8 Plus (A1897)</td>\n",
       "      <td>T40137A</td>\n",
       "      <td>2.082010e+14</td>\n",
       "      <td>3.594021e+13</td>\n",
       "      <td>422.91077</td>\n",
       "      <td>2019-04-27 12:29:22</td>\n",
       "      <td>2019-04-29 09:55:38</td>\n",
       "      <td>45.0</td>\n",
       "      <td>44.640003</td>\n",
       "    </tr>\n",
       "    <tr>\n",
       "      <th>106855</th>\n",
       "      <td>106855</td>\n",
       "      <td>8.823971e+14</td>\n",
       "      <td>1</td>\n",
       "      <td>42.971947</td>\n",
       "      <td>1266.50780</td>\n",
       "      <td>42.971947</td>\n",
       "      <td>1266.50780</td>\n",
       "      <td>42.971947</td>\n",
       "      <td>1266.50780</td>\n",
       "      <td>28.230907</td>\n",
       "      <td>...</td>\n",
       "      <td>Samsung</td>\n",
       "      <td>Samsung Galaxy J3 (Sm-J330)</td>\n",
       "      <td>CELL_208_20_520122_4</td>\n",
       "      <td>2.082010e+14</td>\n",
       "      <td>3.557301e+13</td>\n",
       "      <td>548.34960</td>\n",
       "      <td>2019-04-27 12:29:22</td>\n",
       "      <td>2019-04-29 12:27:01</td>\n",
       "      <td>31.0</td>\n",
       "      <td>6.510000</td>\n",
       "    </tr>\n",
       "  </tbody>\n",
       "</table>\n",
       "<p>106856 rows × 27 columns</p>\n",
       "</div>"
      ],
      "text/plain": [
       "        Unnamed: 0  MSISDN/Number  no.of xDR sessions  Total Uploads  \\\n",
       "0                0   3.360100e+10                   1      36.749740   \n",
       "1                1   3.360100e+10                   1      53.800392   \n",
       "2                2   3.360100e+10                   1      27.883638   \n",
       "3                3   3.360101e+10                   1      43.324220   \n",
       "4                4   3.360101e+10                   2      38.542816   \n",
       "...            ...            ...                 ...            ...   \n",
       "106851      106851   3.379000e+10                   1      50.528850   \n",
       "106852      106852   3.379000e+10                   1      43.206300   \n",
       "106853      106853   3.197021e+12                   1      41.173542   \n",
       "106854      106854   3.370000e+14                   1      49.497055   \n",
       "106855      106855   8.823971e+14                   1      42.971947   \n",
       "\n",
       "        Total Downloads  Total_Uploads  Total_Downloads    Uploads  \\\n",
       "0             480.62408      36.749740        480.62408  36.749740   \n",
       "1            1180.28920      53.800392       1180.28920  53.800392   \n",
       "2             690.49994      27.883638        690.49994  27.883638   \n",
       "3            1595.06840      43.324220       1595.06840  43.324220   \n",
       "4            1119.84810      38.542816       1119.84810  38.542816   \n",
       "...                 ...            ...              ...        ...   \n",
       "106851        871.01940      50.528850        871.01940  50.528850   \n",
       "106852        956.12280      43.206300        956.12280  43.206300   \n",
       "106853        655.69380      41.173542        655.69380  41.173542   \n",
       "106854        832.70605      49.497055        832.70605  49.497055   \n",
       "106855       1266.50780      42.971947       1266.50780  42.971947   \n",
       "\n",
       "         Downloads  Youtube_Total_Data  ...  Handset Manufacturer  \\\n",
       "0        480.62408           18.355944  ...               Samsung   \n",
       "1       1180.28920           39.359123  ...               Samsung   \n",
       "2        690.49994           34.425236  ...               Samsung   \n",
       "3       1595.06840           36.534767  ...             undefined   \n",
       "4       1119.84810           34.222250  ...               Samsung   \n",
       "...            ...                 ...  ...                   ...   \n",
       "106851   871.01940           24.109232  ...                 Apple   \n",
       "106852   956.12280           23.704700  ...                 Apple   \n",
       "106853   655.69380           23.619537  ...             undefined   \n",
       "106854   832.70605           36.713303  ...                 Apple   \n",
       "106855  1266.50780           28.230907  ...               Samsung   \n",
       "\n",
       "                       Handset Type    Last Location Name          IMSI  \\\n",
       "0        Samsung Galaxy A5 Sm-A520F      9164566995485190  2.082014e+14   \n",
       "1       Samsung Galaxy J5 (Sm-J530)               L77566A  2.082019e+14   \n",
       "2          Samsung Galaxy A8 (2018)               D42335A  2.082003e+14   \n",
       "3                         undefined               T21824A  2.082014e+14   \n",
       "4                  Samsung Sm-G390F               D88865A  2.082014e+14   \n",
       "...                             ...                   ...           ...   \n",
       "106851  Apple iPhone 6 Plus (A1524)               D79698A  2.082017e+14   \n",
       "106852      Apple iPhone 6S (A1688)               D72312C  2.082015e+14   \n",
       "106853                    undefined               L35995B  2.082019e+14   \n",
       "106854  Apple iPhone 8 Plus (A1897)               T40137A  2.082010e+14   \n",
       "106855  Samsung Galaxy J3 (Sm-J330)  CELL_208_20_520122_4  2.082010e+14   \n",
       "\n",
       "                IMEI  Total UL and DL                Start  \\\n",
       "0       3.552121e+13        345.62940  2019-04-04 12:01:18   \n",
       "1       3.579401e+13        707.18536  2019-04-09 13:04:04   \n",
       "2       3.528151e+13        307.69098  2019-04-09 17:42:11   \n",
       "3       3.535661e+13        889.35270  2019-04-10 00:31:25   \n",
       "4       3.540701e+13        607.68140  2019-04-12 20:10:23   \n",
       "...              ...              ...                  ...   \n",
       "106851  3.592491e+13        349.05720  2019-04-27 12:29:02   \n",
       "106852  3.561371e+13        197.80980  2019-04-27 12:29:08   \n",
       "106853  3.536981e+13        132.33066  2019-04-27 12:29:20   \n",
       "106854  3.594021e+13        422.91077  2019-04-27 12:29:22   \n",
       "106855  3.557301e+13        548.34960  2019-04-27 12:29:22   \n",
       "\n",
       "                        End Avg Delay (ms) Activity_Duration(ms)  \n",
       "0       2019-04-25 14:35:31           47.0             76.410995  \n",
       "1       2019-04-25 08:15:48           70.0              3.728000  \n",
       "2       2019-04-25 11:58:13           50.0              0.000000  \n",
       "3       2019-04-25 07:36:35           50.0             41.211998  \n",
       "4       2019-04-25 10:40:32           50.0              0.000000  \n",
       "...                     ...            ...                   ...  \n",
       "106851  2019-04-29 10:52:19         1106.0             15.715000  \n",
       "106852  2019-04-29 08:23:38           39.0             80.697010  \n",
       "106853  2019-04-29 12:06:29           50.0              0.000000  \n",
       "106854  2019-04-29 09:55:38           45.0             44.640003  \n",
       "106855  2019-04-29 12:27:01           31.0              6.510000  \n",
       "\n",
       "[106856 rows x 27 columns]"
      ]
     },
     "execution_count": 38,
     "metadata": {},
     "output_type": "execute_result"
    }
   ],
   "source": [
    "dfExp = db.copy()\n",
    "dfExp"
   ]
  },
  {
   "cell_type": "code",
   "execution_count": 41,
   "id": "ad9e952c",
   "metadata": {},
   "outputs": [
    {
     "data": {
      "text/plain": [
       "Unnamed: 0                   int64\n",
       "MSISDN/Number              float64\n",
       "no.of xDR sessions           int64\n",
       "Total Uploads              float64\n",
       "Total Downloads            float64\n",
       "Total_Uploads              float64\n",
       "Total_Downloads            float64\n",
       "Uploads                    float64\n",
       "Downloads                  float64\n",
       "Youtube_Total_Data         float64\n",
       "Google_Total_Data          float64\n",
       "Email_Total_Data           float64\n",
       "Social_Media_Total_Data    float64\n",
       "Netflix_Total_Data         float64\n",
       "Gaming_Total_Data          float64\n",
       "Other_Total_Data           float64\n",
       "Avg Throughput (kbps)      float64\n",
       "Handset Manufacturer        object\n",
       "Handset Type                object\n",
       "Last Location Name          object\n",
       "IMSI                       float64\n",
       "IMEI                       float64\n",
       "Total UL and DL            float64\n",
       "Start                       object\n",
       "End                         object\n",
       "Avg Delay (ms)             float64\n",
       "Activity_Duration(ms)      float64\n",
       "dtype: object"
      ]
     },
     "execution_count": 41,
     "metadata": {},
     "output_type": "execute_result"
    }
   ],
   "source": [
    "dfExp.dtypes"
   ]
  },
  {
   "cell_type": "markdown",
   "id": "3c7c9446",
   "metadata": {},
   "source": [
    "# Univariate Analysis"
   ]
  },
  {
   "cell_type": "markdown",
   "id": "ab7a4c02",
   "metadata": {},
   "source": [
    "## Total UL and DL"
   ]
  },
  {
   "cell_type": "code",
   "execution_count": 56,
   "id": "d92ef519",
   "metadata": {},
   "outputs": [
    {
     "data": {
      "image/png": "[encoded data removed]",
      "text/plain": [
       "<Figure size 1008x504 with 1 Axes>"
      ]
     },
     "metadata": {
      "needs_background": "light"
     },
     "output_type": "display_data"
    }
   ],
   "source": [
    "draw.plot_hist(dfExp, 'Total UL and DL', 'green')"
   ]
  },
  {
   "cell_type": "code",
   "execution_count": 58,
   "id": "32c28ac8",
   "metadata": {},
   "outputs": [
    {
     "data": {
      "image/png": "[encoded data removed]",
      "text/plain": [
       "<Figure size 1008x504 with 1 Axes>"
      ]
     },
     "metadata": {
      "needs_background": "light"
     },
     "output_type": "display_data"
    }
   ],
   "source": [
    "#youtube total data\n",
    "draw.plot_hist(dfExp, 'Youtube_Total_Data', 'yellow')"
   ]
  },
  {
   "cell_type": "code",
   "execution_count": 60,
   "id": "859a1a60",
   "metadata": {},
   "outputs": [
    {
     "data": {
      "text/plain": [
       "count    106856.000000\n",
       "mean         22.614316\n",
       "std           9.247766\n",
       "min           0.129655\n",
       "25%          15.985354\n",
       "50%          22.631867\n",
       "75%          29.251762\n",
       "max          45.190080\n",
       "Name: Youtube_Total_Data, dtype: float64"
      ]
     },
     "execution_count": 60,
     "metadata": {},
     "output_type": "execute_result"
    }
   ],
   "source": [
    "dfExp.describe()['Youtube_Total_Data']"
   ]
  },
  {
   "cell_type": "code",
   "execution_count": 63,
   "id": "87cd312e",
   "metadata": {},
   "outputs": [
    {
     "data": {
      "image/png": "[encoded data removed]",
      "text/plain": [
       "<Figure size 1008x504 with 1 Axes>"
      ]
     },
     "metadata": {
      "needs_background": "light"
     },
     "output_type": "display_data"
    }
   ],
   "source": [
    "draw.plot_hist(dfExp, 'Google_Total_Data', 'blue')"
   ]
  },
  {
   "cell_type": "code",
   "execution_count": 64,
   "id": "e48f47b9",
   "metadata": {},
   "outputs": [
    {
     "data": {
      "text/plain": [
       "count    106856.000000\n",
       "mean          7.807186\n",
       "std           3.518899\n",
       "min           0.040330\n",
       "25%           4.938135\n",
       "50%           7.815112\n",
       "75%          10.683716\n",
       "max          15.528782\n",
       "Name: Google_Total_Data, dtype: float64"
      ]
     },
     "execution_count": 64,
     "metadata": {},
     "output_type": "execute_result"
    }
   ],
   "source": [
    "dfExp.describe()['Google_Total_Data']"
   ]
  },
  {
   "cell_type": "markdown",
   "id": "b3ae17d2",
   "metadata": {},
   "source": [
    "# Email Data"
   ]
  },
  {
   "cell_type": "code",
   "execution_count": 66,
   "id": "9ca18e07",
   "metadata": {},
   "outputs": [
    {
     "data": {
      "image/png": "[encoded data removed]",
      "text/plain": [
       "<Figure size 1008x504 with 1 Axes>"
      ]
     },
     "metadata": {
      "needs_background": "light"
     },
     "output_type": "display_data"
    }
   ],
   "source": [
    "draw.plot_hist(dfExp, 'Email_Total_Data', 'gray')"
   ]
  },
  {
   "cell_type": "code",
   "execution_count": 67,
   "id": "aa03b049",
   "metadata": {},
   "outputs": [
    {
     "data": {
      "text/plain": [
       "count    106856.000000\n",
       "mean          2.256312\n",
       "std           1.070585\n",
       "min           0.008359\n",
       "25%           1.356211\n",
       "50%           2.261322\n",
       "75%           3.156983\n",
       "max           4.518036\n",
       "Name: Email_Total_Data, dtype: float64"
      ]
     },
     "execution_count": 67,
     "metadata": {},
     "output_type": "execute_result"
    }
   ],
   "source": [
    "dfExp.describe()['Email_Total_Data']"
   ]
  },
  {
   "cell_type": "markdown",
   "id": "70a3d059",
   "metadata": {},
   "source": [
    "# social media data"
   ]
  },
  {
   "cell_type": "code",
   "execution_count": 71,
   "id": "dca45ccc",
   "metadata": {},
   "outputs": [
    {
     "data": {
      "image/png": "[encoded data removed]",
      "text/plain": [
       "<Figure size 1008x504 with 1 Axes>"
      ]
     },
     "metadata": {
      "needs_background": "light"
     },
     "output_type": "display_data"
    }
   ],
   "source": [
    "draw.plot_hist(dfExp, 'Social_Media_Total_Data', 'violet')"
   ]
  },
  {
   "cell_type": "markdown",
   "id": "0f01b57f",
   "metadata": {},
   "source": [
    "# Netflix data"
   ]
  },
  {
   "cell_type": "code",
   "execution_count": null,
   "id": "f1c56740",
   "metadata": {},
   "outputs": [],
   "source": []
  }
 ],
 "metadata": {
  "kernelspec": {
   "display_name": "Python 3",
   "language": "python",
   "name": "python3"
  },
  "language_info": {
   "codemirror_mode": {
    "name": "ipython",
    "version": 3
   },
   "file_extension": ".py",
   "mimetype": "text/x-python",
   "name": "python",
   "nbconvert_exporter": "python",
   "pygments_lexer": "ipython3",
   "version": "3.8.8"
  }
 },
 "nbformat": 4,
 "nbformat_minor": 5
}
