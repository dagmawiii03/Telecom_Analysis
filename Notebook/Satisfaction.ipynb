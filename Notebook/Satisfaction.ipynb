{
 "cells": [
  {
   "cell_type": "code",
   "execution_count": 63,
   "id": "d1301968",
   "metadata": {},
   "outputs": [],
   "source": [
    "import sys\n",
    "sys.path.insert(0,'../scripts')"
   ]
  },
  {
   "cell_type": "code",
   "execution_count": 64,
   "id": "8e0ff4e5",
   "metadata": {},
   "outputs": [],
   "source": [
    "from sklearn.model_selection import train_test_split\n",
    "import pandas as pd\n",
    "import numpy as np\n",
    "import matplotlib.pyplot as plt\n",
    "from kneed import KneeLocator\n",
    "from sklearn.cluster import KMeans\n",
    "from sklearn.metrics.pairwise import euclidean_distances\n",
    "from sklearn.model_selection import train_test_split\n",
    "from sklearn.linear_model import Ridge\n",
    "from joblib import dump\n",
    "pd.set_option('max_column', None)\n",
    "pd.set_option('display.float_format', '{:.2f}'.format)\n",
    "%matplotlib inline"
   ]
  },
  {
   "cell_type": "code",
   "execution_count": 65,
   "id": "47962006",
   "metadata": {},
   "outputs": [],
   "source": [
    "from load_data import loader\n",
    "import sql_utils as sql\n",
    "from Result_picker import picker"
   ]
  },
  {
   "cell_type": "code",
   "execution_count": 66,
   "id": "644501cd",
   "metadata": {},
   "outputs": [],
   "source": [
    "res = picker()"
   ]
  },
  {
   "cell_type": "markdown",
   "id": "111daab8",
   "metadata": {},
   "source": [
    "# Engagement score of each user"
   ]
  },
  {
   "cell_type": "code",
   "execution_count": 67,
   "id": "5ffcdc1f",
   "metadata": {
    "scrolled": true
   },
   "outputs": [
    {
     "data": {
      "text/html": [
       "<div>\n",
       "<style scoped>\n",
       "    .dataframe tbody tr th:only-of-type {\n",
       "        vertical-align: middle;\n",
       "    }\n",
       "\n",
       "    .dataframe tbody tr th {\n",
       "        vertical-align: top;\n",
       "    }\n",
       "\n",
       "    .dataframe thead th {\n",
       "        text-align: right;\n",
       "    }\n",
       "</style>\n",
       "<table border=\"1\" class=\"dataframe\">\n",
       "  <thead>\n",
       "    <tr style=\"text-align: right;\">\n",
       "      <th></th>\n",
       "      <th>Bearer Id</th>\n",
       "      <th>Total Duration (hr)</th>\n",
       "      <th>Total Data (MegaBytes)</th>\n",
       "    </tr>\n",
       "  </thead>\n",
       "  <tbody>\n",
       "    <tr>\n",
       "      <th>0</th>\n",
       "      <td>145.79</td>\n",
       "      <td>106.46</td>\n",
       "      <td>144.66</td>\n",
       "    </tr>\n",
       "    <tr>\n",
       "      <th>1</th>\n",
       "      <td>1.03</td>\n",
       "      <td>1.16</td>\n",
       "      <td>1.03</td>\n",
       "    </tr>\n",
       "    <tr>\n",
       "      <th>2</th>\n",
       "      <td>-0.34</td>\n",
       "      <td>-0.41</td>\n",
       "      <td>-0.34</td>\n",
       "    </tr>\n",
       "    <tr>\n",
       "      <th>3</th>\n",
       "      <td>2.06</td>\n",
       "      <td>2.84</td>\n",
       "      <td>2.07</td>\n",
       "    </tr>\n",
       "    <tr>\n",
       "      <th>4</th>\n",
       "      <td>0.17</td>\n",
       "      <td>0.20</td>\n",
       "      <td>0.17</td>\n",
       "    </tr>\n",
       "  </tbody>\n",
       "</table>\n",
       "</div>"
      ],
      "text/plain": [
       "   Bearer Id  Total Duration (hr)  Total Data (MegaBytes)\n",
       "0     145.79               106.46                  144.66\n",
       "1       1.03                 1.16                    1.03\n",
       "2      -0.34                -0.41                   -0.34\n",
       "3       2.06                 2.84                    2.07\n",
       "4       0.17                 0.20                    0.17"
      ]
     },
     "execution_count": 67,
     "metadata": {},
     "output_type": "execute_result"
    }
   ],
   "source": [
    "engagement_centroids = pd.read_csv('../data/engagement_centroid.csv')\n",
    "engagement_centroids = engagement_centroids.iloc[:,1:]\n",
    "engagement_centroids"
   ]
  },
  {
   "cell_type": "code",
   "execution_count": 87,
   "id": "54d7a1be",
   "metadata": {},
   "outputs": [
    {
     "data": {
      "text/html": [
       "<div>\n",
       "<style scoped>\n",
       "    .dataframe tbody tr th:only-of-type {\n",
       "        vertical-align: middle;\n",
       "    }\n",
       "\n",
       "    .dataframe tbody tr th {\n",
       "        vertical-align: top;\n",
       "    }\n",
       "\n",
       "    .dataframe thead th {\n",
       "        text-align: right;\n",
       "    }\n",
       "</style>\n",
       "<table border=\"1\" class=\"dataframe\">\n",
       "  <thead>\n",
       "    <tr style=\"text-align: right;\">\n",
       "      <th></th>\n",
       "      <th>Bearer Id</th>\n",
       "      <th>Total Duration (hr)</th>\n",
       "      <th>Total Data (MegaBytes)</th>\n",
       "    </tr>\n",
       "    <tr>\n",
       "      <th>MSISDN/Number</th>\n",
       "      <th></th>\n",
       "      <th></th>\n",
       "      <th></th>\n",
       "    </tr>\n",
       "  </thead>\n",
       "  <tbody>\n",
       "    <tr>\n",
       "      <th>33601001722.00</th>\n",
       "      <td>-0.12</td>\n",
       "      <td>-0.10</td>\n",
       "      <td>0.11</td>\n",
       "    </tr>\n",
       "    <tr>\n",
       "      <th>33601001754.00</th>\n",
       "      <td>-0.12</td>\n",
       "      <td>0.12</td>\n",
       "      <td>-0.32</td>\n",
       "    </tr>\n",
       "    <tr>\n",
       "      <th>33601002511.00</th>\n",
       "      <td>-0.12</td>\n",
       "      <td>-0.04</td>\n",
       "      <td>-0.06</td>\n",
       "    </tr>\n",
       "    <tr>\n",
       "      <th>33601007832.00</th>\n",
       "      <td>-0.12</td>\n",
       "      <td>-0.33</td>\n",
       "      <td>-0.16</td>\n",
       "    </tr>\n",
       "    <tr>\n",
       "      <th>33601008617.00</th>\n",
       "      <td>0.18</td>\n",
       "      <td>-0.38</td>\n",
       "      <td>0.45</td>\n",
       "    </tr>\n",
       "  </tbody>\n",
       "</table>\n",
       "</div>"
      ],
      "text/plain": [
       "                Bearer Id  Total Duration (hr)  Total Data (MegaBytes)\n",
       "MSISDN/Number                                                         \n",
       "33601001722.00      -0.12                -0.10                    0.11\n",
       "33601001754.00      -0.12                 0.12                   -0.32\n",
       "33601002511.00      -0.12                -0.04                   -0.06\n",
       "33601007832.00      -0.12                -0.33                   -0.16\n",
       "33601008617.00       0.18                -0.38                    0.45"
      ]
     },
     "execution_count": 87,
     "metadata": {},
     "output_type": "execute_result"
    }
   ],
   "source": [
    "engagement_metrics = pd.read_csv('../data/engagement_cluster.csv')\n",
    "engagement_metrics.index = engagement_metrics['MSISDN/Number']\n",
    "engagement_metrics = engagement_metrics.iloc[:,1:4]\n",
    "engagement_metrics.head()"
   ]
  },
  {
   "cell_type": "code",
   "execution_count": 92,
   "id": "c32825b8",
   "metadata": {},
   "outputs": [
    {
     "data": {
      "text/plain": [
       "array([[231.38738809],\n",
       "       [231.55088615],\n",
       "       [231.46246656],\n",
       "       ...,\n",
       "       [230.4293563 ],\n",
       "       [231.27513087],\n",
       "       [230.47554266]])"
      ]
     },
     "execution_count": 92,
     "metadata": {},
     "output_type": "execute_result"
    }
   ],
   "source": [
    "engagement_score = euclidean_distances(engagement_metrics.values.tolist(),[engagement_centroids.values.tolist()[0]])\n",
    "engagement_score"
   ]
  },
  {
   "cell_type": "code",
   "execution_count": 93,
   "id": "7a1d08be",
   "metadata": {},
   "outputs": [
    {
     "data": {
      "text/plain": [
       "[231.3873880913362, 231.55088615150737]"
      ]
     },
     "execution_count": 93,
     "metadata": {},
     "output_type": "execute_result"
    }
   ],
   "source": [
    "engagement_score = [val[0] for val in engagement_score.tolist()]\n",
    "engagement_score[:2]"
   ]
  },
  {
   "cell_type": "markdown",
   "id": "c8001310",
   "metadata": {},
   "source": [
    "# Experience "
   ]
  },
  {
   "cell_type": "code",
   "execution_count": 94,
   "id": "8a700565",
   "metadata": {},
   "outputs": [
    {
     "data": {
      "text/html": [
       "<div>\n",
       "<style scoped>\n",
       "    .dataframe tbody tr th:only-of-type {\n",
       "        vertical-align: middle;\n",
       "    }\n",
       "\n",
       "    .dataframe tbody tr th {\n",
       "        vertical-align: top;\n",
       "    }\n",
       "\n",
       "    .dataframe thead th {\n",
       "        text-align: right;\n",
       "    }\n",
       "</style>\n",
       "<table border=\"1\" class=\"dataframe\">\n",
       "  <thead>\n",
       "    <tr style=\"text-align: right;\">\n",
       "      <th></th>\n",
       "      <th>Bearer Id</th>\n",
       "      <th>Total Duration (hr)</th>\n",
       "      <th>Total Data (MegaBytes)</th>\n",
       "    </tr>\n",
       "  </thead>\n",
       "  <tbody>\n",
       "    <tr>\n",
       "      <th>0</th>\n",
       "      <td>145.79</td>\n",
       "      <td>106.46</td>\n",
       "      <td>144.66</td>\n",
       "    </tr>\n",
       "    <tr>\n",
       "      <th>1</th>\n",
       "      <td>1.03</td>\n",
       "      <td>1.16</td>\n",
       "      <td>1.03</td>\n",
       "    </tr>\n",
       "    <tr>\n",
       "      <th>2</th>\n",
       "      <td>-0.34</td>\n",
       "      <td>-0.41</td>\n",
       "      <td>-0.34</td>\n",
       "    </tr>\n",
       "    <tr>\n",
       "      <th>3</th>\n",
       "      <td>2.06</td>\n",
       "      <td>2.84</td>\n",
       "      <td>2.07</td>\n",
       "    </tr>\n",
       "    <tr>\n",
       "      <th>4</th>\n",
       "      <td>0.17</td>\n",
       "      <td>0.20</td>\n",
       "      <td>0.17</td>\n",
       "    </tr>\n",
       "  </tbody>\n",
       "</table>\n",
       "</div>"
      ],
      "text/plain": [
       "   Bearer Id  Total Duration (hr)  Total Data (MegaBytes)\n",
       "0     145.79               106.46                  144.66\n",
       "1       1.03                 1.16                    1.03\n",
       "2      -0.34                -0.41                   -0.34\n",
       "3       2.06                 2.84                    2.07\n",
       "4       0.17                 0.20                    0.17"
      ]
     },
     "execution_count": 94,
     "metadata": {},
     "output_type": "execute_result"
    }
   ],
   "source": [
    "experience_centroids = pd.read_csv('../data/engagement_centroid.csv')\n",
    "experience_centroids = experience_centroids.iloc[:,1:]\n",
    "experience_centroids"
   ]
  },
  {
   "cell_type": "code",
   "execution_count": 99,
   "id": "dfe34d4f",
   "metadata": {
    "scrolled": true
   },
   "outputs": [
    {
     "data": {
      "text/html": [
       "<div>\n",
       "<style scoped>\n",
       "    .dataframe tbody tr th:only-of-type {\n",
       "        vertical-align: middle;\n",
       "    }\n",
       "\n",
       "    .dataframe tbody tr th {\n",
       "        vertical-align: top;\n",
       "    }\n",
       "\n",
       "    .dataframe thead th {\n",
       "        text-align: right;\n",
       "    }\n",
       "</style>\n",
       "<table border=\"1\" class=\"dataframe\">\n",
       "  <thead>\n",
       "    <tr style=\"text-align: right;\">\n",
       "      <th></th>\n",
       "      <th>Avg Delay (ms)</th>\n",
       "      <th>Avg Throughput (kbps)</th>\n",
       "      <th>cluster</th>\n",
       "    </tr>\n",
       "    <tr>\n",
       "      <th>MSISDN/Number</th>\n",
       "      <th></th>\n",
       "      <th></th>\n",
       "      <th></th>\n",
       "    </tr>\n",
       "  </thead>\n",
       "  <tbody>\n",
       "    <tr>\n",
       "      <th>33601001722.00</th>\n",
       "      <td>-0.34</td>\n",
       "      <td>-0.54</td>\n",
       "      <td>1</td>\n",
       "    </tr>\n",
       "    <tr>\n",
       "      <th>33601001754.00</th>\n",
       "      <td>0.52</td>\n",
       "      <td>-0.54</td>\n",
       "      <td>2</td>\n",
       "    </tr>\n",
       "    <tr>\n",
       "      <th>33601002511.00</th>\n",
       "      <td>-0.23</td>\n",
       "      <td>-0.54</td>\n",
       "      <td>1</td>\n",
       "    </tr>\n",
       "    <tr>\n",
       "      <th>33601007832.00</th>\n",
       "      <td>-0.23</td>\n",
       "      <td>-0.53</td>\n",
       "      <td>1</td>\n",
       "    </tr>\n",
       "    <tr>\n",
       "      <th>33601008617.00</th>\n",
       "      <td>-0.23</td>\n",
       "      <td>-0.54</td>\n",
       "      <td>1</td>\n",
       "    </tr>\n",
       "  </tbody>\n",
       "</table>\n",
       "</div>"
      ],
      "text/plain": [
       "                Avg Delay (ms)  Avg Throughput (kbps)  cluster\n",
       "MSISDN/Number                                                 \n",
       "33601001722.00           -0.34                  -0.54        1\n",
       "33601001754.00            0.52                  -0.54        2\n",
       "33601002511.00           -0.23                  -0.54        1\n",
       "33601007832.00           -0.23                  -0.53        1\n",
       "33601008617.00           -0.23                  -0.54        1"
      ]
     },
     "execution_count": 99,
     "metadata": {},
     "output_type": "execute_result"
    }
   ],
   "source": [
    "experience_metrics = pd.read_csv('../data/experience_cluster.csv')\n",
    "experience_metrics.index = experience_metrics['MSISDN/Number']\n",
    "experience_metrics = experience_metrics.iloc[:106856,1:4]\n",
    "experience_metrics.head()"
   ]
  },
  {
   "cell_type": "code",
   "execution_count": 107,
   "id": "f7db64ed",
   "metadata": {
    "scrolled": true
   },
   "outputs": [
    {
     "data": {
      "text/plain": [
       "array([[231.1697678 ],\n",
       "       [230.00832063],\n",
       "       [231.10096659],\n",
       "       ...,\n",
       "       [231.10096659],\n",
       "       [231.21656219],\n",
       "       [231.53241121]])"
      ]
     },
     "execution_count": 107,
     "metadata": {},
     "output_type": "execute_result"
    }
   ],
   "source": [
    "experience_score = euclidean_distances(experience_metrics.values.tolist(),[experience_centroids.values.tolist()[0]])\n",
    "experience_score"
   ]
  },
  {
   "cell_type": "code",
   "execution_count": 108,
   "id": "f665cca6",
   "metadata": {},
   "outputs": [
    {
     "data": {
      "text/plain": [
       "[231.1697677999321, 230.00832063158995]"
      ]
     },
     "execution_count": 108,
     "metadata": {},
     "output_type": "execute_result"
    }
   ],
   "source": [
    "experience_score = [val[0] for val in experience_score.tolist()]\n",
    "experience_score[:2]"
   ]
  },
  {
   "cell_type": "markdown",
   "id": "8256b83b",
   "metadata": {},
   "source": [
    "# Satisfing score based on engagement and experience"
   ]
  },
  {
   "cell_type": "code",
   "execution_count": 110,
   "id": "6ccff79a",
   "metadata": {},
   "outputs": [
    {
     "data": {
      "text/html": [
       "<div>\n",
       "<style scoped>\n",
       "    .dataframe tbody tr th:only-of-type {\n",
       "        vertical-align: middle;\n",
       "    }\n",
       "\n",
       "    .dataframe tbody tr th {\n",
       "        vertical-align: top;\n",
       "    }\n",
       "\n",
       "    .dataframe thead th {\n",
       "        text-align: right;\n",
       "    }\n",
       "</style>\n",
       "<table border=\"1\" class=\"dataframe\">\n",
       "  <thead>\n",
       "    <tr style=\"text-align: right;\">\n",
       "      <th></th>\n",
       "      <th>engagement_score</th>\n",
       "      <th>experience_score</th>\n",
       "    </tr>\n",
       "    <tr>\n",
       "      <th>MSISDN/Number</th>\n",
       "      <th></th>\n",
       "      <th></th>\n",
       "    </tr>\n",
       "  </thead>\n",
       "  <tbody>\n",
       "    <tr>\n",
       "      <th>33601001722.00</th>\n",
       "      <td>231.39</td>\n",
       "      <td>231.17</td>\n",
       "    </tr>\n",
       "    <tr>\n",
       "      <th>33601001754.00</th>\n",
       "      <td>231.55</td>\n",
       "      <td>230.01</td>\n",
       "    </tr>\n",
       "    <tr>\n",
       "      <th>33601002511.00</th>\n",
       "      <td>231.46</td>\n",
       "      <td>231.10</td>\n",
       "    </tr>\n",
       "    <tr>\n",
       "      <th>33601007832.00</th>\n",
       "      <td>231.66</td>\n",
       "      <td>231.10</td>\n",
       "    </tr>\n",
       "    <tr>\n",
       "      <th>33601008617.00</th>\n",
       "      <td>231.11</td>\n",
       "      <td>231.10</td>\n",
       "    </tr>\n",
       "  </tbody>\n",
       "</table>\n",
       "</div>"
      ],
      "text/plain": [
       "                engagement_score  experience_score\n",
       "MSISDN/Number                                     \n",
       "33601001722.00            231.39            231.17\n",
       "33601001754.00            231.55            230.01\n",
       "33601002511.00            231.46            231.10\n",
       "33601007832.00            231.66            231.10\n",
       "33601008617.00            231.11            231.10"
      ]
     },
     "execution_count": 110,
     "metadata": {},
     "output_type": "execute_result"
    }
   ],
   "source": [
    "df = pd.DataFrame()\n",
    "df['engagement_score'] = engagement_score\n",
    "df['experience_score'] = experience_score\n",
    "df.index = engagement_metrics.index\n",
    "#result\n",
    "df.head()"
   ]
  },
  {
   "cell_type": "code",
   "execution_count": 111,
   "id": "55a5db87",
   "metadata": {},
   "outputs": [
    {
     "data": {
      "text/html": [
       "<div>\n",
       "<style scoped>\n",
       "    .dataframe tbody tr th:only-of-type {\n",
       "        vertical-align: middle;\n",
       "    }\n",
       "\n",
       "    .dataframe tbody tr th {\n",
       "        vertical-align: top;\n",
       "    }\n",
       "\n",
       "    .dataframe thead th {\n",
       "        text-align: right;\n",
       "    }\n",
       "</style>\n",
       "<table border=\"1\" class=\"dataframe\">\n",
       "  <thead>\n",
       "    <tr style=\"text-align: right;\">\n",
       "      <th></th>\n",
       "      <th>engagement_score</th>\n",
       "      <th>experience_score</th>\n",
       "      <th>satisfaction_score</th>\n",
       "    </tr>\n",
       "    <tr>\n",
       "      <th>MSISDN/Number</th>\n",
       "      <th></th>\n",
       "      <th></th>\n",
       "      <th></th>\n",
       "    </tr>\n",
       "  </thead>\n",
       "  <tbody>\n",
       "    <tr>\n",
       "      <th>33601001722.00</th>\n",
       "      <td>231.39</td>\n",
       "      <td>231.17</td>\n",
       "      <td>231.28</td>\n",
       "    </tr>\n",
       "    <tr>\n",
       "      <th>33601001754.00</th>\n",
       "      <td>231.55</td>\n",
       "      <td>230.01</td>\n",
       "      <td>230.78</td>\n",
       "    </tr>\n",
       "    <tr>\n",
       "      <th>33601002511.00</th>\n",
       "      <td>231.46</td>\n",
       "      <td>231.10</td>\n",
       "      <td>231.28</td>\n",
       "    </tr>\n",
       "    <tr>\n",
       "      <th>33601007832.00</th>\n",
       "      <td>231.66</td>\n",
       "      <td>231.10</td>\n",
       "      <td>231.38</td>\n",
       "    </tr>\n",
       "    <tr>\n",
       "      <th>33601008617.00</th>\n",
       "      <td>231.11</td>\n",
       "      <td>231.10</td>\n",
       "      <td>231.11</td>\n",
       "    </tr>\n",
       "  </tbody>\n",
       "</table>\n",
       "</div>"
      ],
      "text/plain": [
       "                engagement_score  experience_score  satisfaction_score\n",
       "MSISDN/Number                                                         \n",
       "33601001722.00            231.39            231.17              231.28\n",
       "33601001754.00            231.55            230.01              230.78\n",
       "33601002511.00            231.46            231.10              231.28\n",
       "33601007832.00            231.66            231.10              231.38\n",
       "33601008617.00            231.11            231.10              231.11"
      ]
     },
     "execution_count": 111,
     "metadata": {},
     "output_type": "execute_result"
    }
   ],
   "source": [
    "#taking the average of engagement and experience for satisfaction score\n",
    "df['satisfaction_score'] = (df['engagement_score'] + df['experience_score'])/2\n",
    "df.head()"
   ]
  },
  {
   "cell_type": "markdown",
   "id": "1c2aec12",
   "metadata": {},
   "source": [
    "# Top 10 satisfied customers"
   ]
  },
  {
   "cell_type": "code",
   "execution_count": 112,
   "id": "09f85726",
   "metadata": {},
   "outputs": [
    {
     "data": {
      "text/html": [
       "<div>\n",
       "<style scoped>\n",
       "    .dataframe tbody tr th:only-of-type {\n",
       "        vertical-align: middle;\n",
       "    }\n",
       "\n",
       "    .dataframe tbody tr th {\n",
       "        vertical-align: top;\n",
       "    }\n",
       "\n",
       "    .dataframe thead th {\n",
       "        text-align: right;\n",
       "    }\n",
       "</style>\n",
       "<table border=\"1\" class=\"dataframe\">\n",
       "  <thead>\n",
       "    <tr style=\"text-align: right;\">\n",
       "      <th></th>\n",
       "      <th>engagement_score</th>\n",
       "      <th>experience_score</th>\n",
       "      <th>satisfaction_score</th>\n",
       "    </tr>\n",
       "    <tr>\n",
       "      <th>MSISDN/Number</th>\n",
       "      <th></th>\n",
       "      <th></th>\n",
       "      <th></th>\n",
       "    </tr>\n",
       "  </thead>\n",
       "  <tbody>\n",
       "    <tr>\n",
       "      <th>33663706799.00</th>\n",
       "      <td>280.04</td>\n",
       "      <td>231.10</td>\n",
       "      <td>255.57</td>\n",
       "    </tr>\n",
       "    <tr>\n",
       "      <th>33777966807.00</th>\n",
       "      <td>231.57</td>\n",
       "      <td>232.28</td>\n",
       "      <td>231.92</td>\n",
       "    </tr>\n",
       "    <tr>\n",
       "      <th>33661041737.00</th>\n",
       "      <td>231.52</td>\n",
       "      <td>232.28</td>\n",
       "      <td>231.90</td>\n",
       "    </tr>\n",
       "    <tr>\n",
       "      <th>33660727459.00</th>\n",
       "      <td>231.72</td>\n",
       "      <td>232.07</td>\n",
       "      <td>231.89</td>\n",
       "    </tr>\n",
       "    <tr>\n",
       "      <th>33667938958.00</th>\n",
       "      <td>231.82</td>\n",
       "      <td>231.95</td>\n",
       "      <td>231.88</td>\n",
       "    </tr>\n",
       "    <tr>\n",
       "      <th>33669466195.00</th>\n",
       "      <td>231.82</td>\n",
       "      <td>231.95</td>\n",
       "      <td>231.88</td>\n",
       "    </tr>\n",
       "    <tr>\n",
       "      <th>33650546421.00</th>\n",
       "      <td>231.79</td>\n",
       "      <td>231.97</td>\n",
       "      <td>231.88</td>\n",
       "    </tr>\n",
       "    <tr>\n",
       "      <th>33601974265.00</th>\n",
       "      <td>231.81</td>\n",
       "      <td>231.95</td>\n",
       "      <td>231.88</td>\n",
       "    </tr>\n",
       "    <tr>\n",
       "      <th>33777259497.00</th>\n",
       "      <td>231.80</td>\n",
       "      <td>231.95</td>\n",
       "      <td>231.87</td>\n",
       "    </tr>\n",
       "    <tr>\n",
       "      <th>33777830030.00</th>\n",
       "      <td>231.80</td>\n",
       "      <td>231.95</td>\n",
       "      <td>231.87</td>\n",
       "    </tr>\n",
       "  </tbody>\n",
       "</table>\n",
       "</div>"
      ],
      "text/plain": [
       "                engagement_score  experience_score  satisfaction_score\n",
       "MSISDN/Number                                                         \n",
       "33663706799.00            280.04            231.10              255.57\n",
       "33777966807.00            231.57            232.28              231.92\n",
       "33661041737.00            231.52            232.28              231.90\n",
       "33660727459.00            231.72            232.07              231.89\n",
       "33667938958.00            231.82            231.95              231.88\n",
       "33669466195.00            231.82            231.95              231.88\n",
       "33650546421.00            231.79            231.97              231.88\n",
       "33601974265.00            231.81            231.95              231.88\n",
       "33777259497.00            231.80            231.95              231.87\n",
       "33777830030.00            231.80            231.95              231.87"
      ]
     },
     "execution_count": 112,
     "metadata": {},
     "output_type": "execute_result"
    }
   ],
   "source": [
    "#enjecting this satisfaction score to group the customers as most satisfied\n",
    "top10 = df.sort_values(by='satisfaction_score', ascending=False).iloc[:10,:]\n",
    "top10.to_csv('../data/top10_satisfied_customers.csv')\n",
    "top10"
   ]
  },
  {
   "cell_type": "markdown",
   "id": "85114cc7",
   "metadata": {},
   "source": [
    "# predicting the satisfaction of a customer"
   ]
  },
  {
   "cell_type": "code",
   "execution_count": 118,
   "id": "94413c9e",
   "metadata": {},
   "outputs": [
    {
     "data": {
      "text/html": [
       "<div>\n",
       "<style scoped>\n",
       "    .dataframe tbody tr th:only-of-type {\n",
       "        vertical-align: middle;\n",
       "    }\n",
       "\n",
       "    .dataframe tbody tr th {\n",
       "        vertical-align: top;\n",
       "    }\n",
       "\n",
       "    .dataframe thead th {\n",
       "        text-align: right;\n",
       "    }\n",
       "</style>\n",
       "<table border=\"1\" class=\"dataframe\">\n",
       "  <thead>\n",
       "    <tr style=\"text-align: right;\">\n",
       "      <th></th>\n",
       "      <th>Bearer Id</th>\n",
       "      <th>Total Duration (hr)</th>\n",
       "      <th>Total Data (MegaBytes)</th>\n",
       "      <th>Average throughput</th>\n",
       "      <th>satisfaction_score</th>\n",
       "    </tr>\n",
       "    <tr>\n",
       "      <th>MSISDN/Number</th>\n",
       "      <th></th>\n",
       "      <th></th>\n",
       "      <th></th>\n",
       "      <th></th>\n",
       "      <th></th>\n",
       "    </tr>\n",
       "  </thead>\n",
       "  <tbody>\n",
       "    <tr>\n",
       "      <th>33601001722.00</th>\n",
       "      <td>-0.12</td>\n",
       "      <td>-0.10</td>\n",
       "      <td>0.11</td>\n",
       "      <td>-0.54</td>\n",
       "      <td>231.28</td>\n",
       "    </tr>\n",
       "    <tr>\n",
       "      <th>33601001754.00</th>\n",
       "      <td>-0.12</td>\n",
       "      <td>0.12</td>\n",
       "      <td>-0.32</td>\n",
       "      <td>-0.54</td>\n",
       "      <td>230.78</td>\n",
       "    </tr>\n",
       "    <tr>\n",
       "      <th>33601002511.00</th>\n",
       "      <td>-0.12</td>\n",
       "      <td>-0.04</td>\n",
       "      <td>-0.06</td>\n",
       "      <td>-0.54</td>\n",
       "      <td>231.28</td>\n",
       "    </tr>\n",
       "    <tr>\n",
       "      <th>33601007832.00</th>\n",
       "      <td>-0.12</td>\n",
       "      <td>-0.33</td>\n",
       "      <td>-0.16</td>\n",
       "      <td>-0.53</td>\n",
       "      <td>231.38</td>\n",
       "    </tr>\n",
       "    <tr>\n",
       "      <th>33601008617.00</th>\n",
       "      <td>0.18</td>\n",
       "      <td>-0.38</td>\n",
       "      <td>0.45</td>\n",
       "      <td>-0.54</td>\n",
       "      <td>231.11</td>\n",
       "    </tr>\n",
       "  </tbody>\n",
       "</table>\n",
       "</div>"
      ],
      "text/plain": [
       "                Bearer Id  Total Duration (hr)  Total Data (MegaBytes)  \\\n",
       "MSISDN/Number                                                            \n",
       "33601001722.00      -0.12                -0.10                    0.11   \n",
       "33601001754.00      -0.12                 0.12                   -0.32   \n",
       "33601002511.00      -0.12                -0.04                   -0.06   \n",
       "33601007832.00      -0.12                -0.33                   -0.16   \n",
       "33601008617.00       0.18                -0.38                    0.45   \n",
       "\n",
       "                Average throughput  satisfaction_score  \n",
       "MSISDN/Number                                           \n",
       "33601001722.00               -0.54              231.28  \n",
       "33601001754.00               -0.54              230.78  \n",
       "33601002511.00               -0.54              231.28  \n",
       "33601007832.00               -0.53              231.38  \n",
       "33601008617.00               -0.54              231.11  "
      ]
     },
     "execution_count": 118,
     "metadata": {},
     "output_type": "execute_result"
    }
   ],
   "source": [
    "#using regression model\n",
    "train_df = engagement_metrics.copy(deep=True)\n",
    "#train_df['Average TCP'] = experience_metrics['Average TCP'].to_list()\n",
    "#train_df['Average RTT'] = experience_metrics['Average RTT'].to_list()\n",
    "train_df['Average throughput'] = experience_metrics['Avg Throughput (kbps)'].to_list()\n",
    "# Adding our average satisfaction score (this is going to be our predicted value)\n",
    "train_df['satisfaction_score'] = df['satisfaction_score'].to_list()\n",
    "train_df.head()"
   ]
  },
  {
   "cell_type": "code",
   "execution_count": 120,
   "id": "ce54b2f3",
   "metadata": {},
   "outputs": [],
   "source": [
    "#dividing the data as 80 train and 20 test\n",
    "train_data = train_df.iloc[:int(len(train_df) * 0.8),:]\n",
    "test_data = train_df.iloc[int(len(train_df) * 0.8):,:]"
   ]
  },
  {
   "cell_type": "code",
   "execution_count": 121,
   "id": "8ab42908",
   "metadata": {},
   "outputs": [],
   "source": [
    "train_x = train_data.iloc[:,:-1]\n",
    "train_y = train_data.iloc[:,-1:]\n"
   ]
  },
  {
   "cell_type": "code",
   "execution_count": 122,
   "id": "e958722d",
   "metadata": {},
   "outputs": [],
   "source": [
    "test_x = test_data.iloc[:,:-1]\n",
    "test_y = test_data.iloc[:,-1:]"
   ]
  },
  {
   "cell_type": "code",
   "execution_count": 123,
   "id": "fa1f25cd",
   "metadata": {},
   "outputs": [],
   "source": [
    "xtrain,xtest,ytrain,ytest = train_test_split(train_x,train_y,test_size=0.2,random_state=40)"
   ]
  },
  {
   "cell_type": "code",
   "execution_count": 124,
   "id": "46fcb960",
   "metadata": {},
   "outputs": [
    {
     "name": "stdout",
     "output_type": "stream",
     "text": [
      "The model score is: 0.64645\n"
     ]
    }
   ],
   "source": [
    "alpha_val = 0.8\n",
    "rr = Ridge(alpha=alpha_val)\n",
    "rr.fit(xtrain, ytrain)\n",
    "# Validation value of the model\n",
    "validation_score = rr.score(xtest, ytest)\n",
    "print(\"The model score is: {:.5f}\".format(validation_score))"
   ]
  },
  {
   "cell_type": "code",
   "execution_count": 125,
   "id": "ef8fa4ff",
   "metadata": {},
   "outputs": [
    {
     "name": "stdout",
     "output_type": "stream",
     "text": [
      "The model final score is: 0.65694\n"
     ]
    }
   ],
   "source": [
    "rr.fit(train_x, train_y)\n",
    "# Test on the test data\n",
    "final_score = rr.score(test_x,test_y)\n",
    "print(\"The model final score is: {:.5f}\".format(final_score))"
   ]
  },
  {
   "cell_type": "code",
   "execution_count": 127,
   "id": "bb168898",
   "metadata": {},
   "outputs": [
    {
     "data": {
      "text/plain": [
       "{'Model Name': 'Ridge Model',\n",
       " 'alpha': 0.8,\n",
       " 'Validation score': 0.6464483226431829,\n",
       " 'Test Score': 0.6569418647742722}"
      ]
     },
     "execution_count": 127,
     "metadata": {},
     "output_type": "execute_result"
    }
   ],
   "source": [
    "model_desc = {'Model Name': \"Ridge Model\",'alpha':alpha_val,'Validation score': validation_score, 'Test Score': final_score}\n",
    "#Saving the model data\n",
    "res.add_data('model_desc',model_desc)\n",
    "#result\n",
    "model_desc"
   ]
  },
  {
   "cell_type": "code",
   "execution_count": 129,
   "id": "1f6c863e",
   "metadata": {},
   "outputs": [
    {
     "data": {
      "text/plain": [
       "['../data/satisfaction_scorer_model.joblib']"
      ]
     },
     "execution_count": 129,
     "metadata": {},
     "output_type": "execute_result"
    }
   ],
   "source": [
    "# Saving the final Model using joblibs \n",
    "dump(rr, '../data/satisfaction_scorer_model.joblib')"
   ]
  },
  {
   "cell_type": "markdown",
   "id": "644c3d39",
   "metadata": {},
   "source": [
    "# clustering users based on engagement and experience"
   ]
  },
  {
   "cell_type": "code",
   "execution_count": 131,
   "id": "168c693c",
   "metadata": {},
   "outputs": [
    {
     "data": {
      "text/html": [
       "<div>\n",
       "<style scoped>\n",
       "    .dataframe tbody tr th:only-of-type {\n",
       "        vertical-align: middle;\n",
       "    }\n",
       "\n",
       "    .dataframe tbody tr th {\n",
       "        vertical-align: top;\n",
       "    }\n",
       "\n",
       "    .dataframe thead th {\n",
       "        text-align: right;\n",
       "    }\n",
       "</style>\n",
       "<table border=\"1\" class=\"dataframe\">\n",
       "  <thead>\n",
       "    <tr style=\"text-align: right;\">\n",
       "      <th></th>\n",
       "      <th>engagement_score</th>\n",
       "      <th>experience_score</th>\n",
       "    </tr>\n",
       "    <tr>\n",
       "      <th>MSISDN/Number</th>\n",
       "      <th></th>\n",
       "      <th></th>\n",
       "    </tr>\n",
       "  </thead>\n",
       "  <tbody>\n",
       "    <tr>\n",
       "      <th>33601001722.00</th>\n",
       "      <td>231.39</td>\n",
       "      <td>231.17</td>\n",
       "    </tr>\n",
       "    <tr>\n",
       "      <th>33601001754.00</th>\n",
       "      <td>231.55</td>\n",
       "      <td>230.01</td>\n",
       "    </tr>\n",
       "    <tr>\n",
       "      <th>33601002511.00</th>\n",
       "      <td>231.46</td>\n",
       "      <td>231.10</td>\n",
       "    </tr>\n",
       "    <tr>\n",
       "      <th>33601007832.00</th>\n",
       "      <td>231.66</td>\n",
       "      <td>231.10</td>\n",
       "    </tr>\n",
       "    <tr>\n",
       "      <th>33601008617.00</th>\n",
       "      <td>231.11</td>\n",
       "      <td>231.10</td>\n",
       "    </tr>\n",
       "  </tbody>\n",
       "</table>\n",
       "</div>"
      ],
      "text/plain": [
       "                engagement_score  experience_score\n",
       "MSISDN/Number                                     \n",
       "33601001722.00            231.39            231.17\n",
       "33601001754.00            231.55            230.01\n",
       "33601002511.00            231.46            231.10\n",
       "33601007832.00            231.66            231.10\n",
       "33601008617.00            231.11            231.10"
      ]
     },
     "execution_count": 131,
     "metadata": {},
     "output_type": "execute_result"
    }
   ],
   "source": [
    "cluster_df = df.iloc[:,:2]\n",
    "cluster_df.head()"
   ]
  },
  {
   "cell_type": "code",
   "execution_count": 132,
   "id": "0e1612b4",
   "metadata": {},
   "outputs": [
    {
     "name": "stdout",
     "output_type": "stream",
     "text": [
      "# Centroids of the clustering:\n",
      "[[231.33685125 231.20766914]\n",
      " [231.33670696 229.01984538]]\n",
      "# The number of iterations required to converge: 56463.53095468903\n",
      "# The number of iterations required to converge: 6\n"
     ]
    }
   ],
   "source": [
    "# Creating a k-means cluster with 2 number of clusters\n",
    "km = KMeans(init=\"random\",n_clusters=2,n_init=10,max_iter=300,random_state=42)\n",
    "label = km.fit_predict(cluster_df)\n",
    "centroids = km.cluster_centers_\n",
    "print(f'# Centroids of the clustering:\\n{centroids}')\n",
    "print(f'# The number of iterations required to converge: {km.inertia_}')\n",
    "print(f'# The number of iterations required to converge: {km.n_iter_}')"
   ]
  },
  {
   "cell_type": "code",
   "execution_count": 133,
   "id": "c866da89",
   "metadata": {},
   "outputs": [
    {
     "data": {
      "image/png": "[encoded data removed]",
      "text/plain": [
       "<Figure size 720x360 with 1 Axes>"
      ]
     },
     "metadata": {
      "needs_background": "light"
     },
     "output_type": "display_data"
    }
   ],
   "source": [
    "u_labels = np.unique(label)\n",
    " \n",
    "#plotting the results:\n",
    "plt.figure(figsize=(10,5))\n",
    "plt.title(f'User clustering based on engagement score and experience score')\n",
    "for i in u_labels:\n",
    "    plt.scatter(cluster_df[label == i].iloc[:,0] , cluster_df[label == i].iloc[:,1], marker='o', label = i)\n",
    "plt.scatter(centroids[:,0] , centroids[:,1], marker='x', color = 'black')\n",
    "plt.xlabel(\"engagement score\")\n",
    "plt.ylabel(\"experience score\")\n",
    "plt.legend()\n",
    "plt.savefig('../data/satisfaction_cluster.png')\n",
    "plt.show()"
   ]
  },
  {
   "cell_type": "code",
   "execution_count": 134,
   "id": "09fe46c2",
   "metadata": {},
   "outputs": [
    {
     "data": {
      "text/html": [
       "<div>\n",
       "<style scoped>\n",
       "    .dataframe tbody tr th:only-of-type {\n",
       "        vertical-align: middle;\n",
       "    }\n",
       "\n",
       "    .dataframe tbody tr th {\n",
       "        vertical-align: top;\n",
       "    }\n",
       "\n",
       "    .dataframe thead th {\n",
       "        text-align: right;\n",
       "    }\n",
       "</style>\n",
       "<table border=\"1\" class=\"dataframe\">\n",
       "  <thead>\n",
       "    <tr style=\"text-align: right;\">\n",
       "      <th></th>\n",
       "      <th>engagement_score</th>\n",
       "      <th>experience_score</th>\n",
       "      <th>satisfaction_score</th>\n",
       "      <th>cluster</th>\n",
       "    </tr>\n",
       "    <tr>\n",
       "      <th>MSISDN/Number</th>\n",
       "      <th></th>\n",
       "      <th></th>\n",
       "      <th></th>\n",
       "      <th></th>\n",
       "    </tr>\n",
       "  </thead>\n",
       "  <tbody>\n",
       "    <tr>\n",
       "      <th>33601001722.00</th>\n",
       "      <td>231.39</td>\n",
       "      <td>231.17</td>\n",
       "      <td>231.28</td>\n",
       "      <td>0</td>\n",
       "    </tr>\n",
       "    <tr>\n",
       "      <th>33601001754.00</th>\n",
       "      <td>231.55</td>\n",
       "      <td>230.01</td>\n",
       "      <td>230.78</td>\n",
       "      <td>1</td>\n",
       "    </tr>\n",
       "    <tr>\n",
       "      <th>33601002511.00</th>\n",
       "      <td>231.46</td>\n",
       "      <td>231.10</td>\n",
       "      <td>231.28</td>\n",
       "      <td>0</td>\n",
       "    </tr>\n",
       "    <tr>\n",
       "      <th>33601007832.00</th>\n",
       "      <td>231.66</td>\n",
       "      <td>231.10</td>\n",
       "      <td>231.38</td>\n",
       "      <td>0</td>\n",
       "    </tr>\n",
       "    <tr>\n",
       "      <th>33601008617.00</th>\n",
       "      <td>231.11</td>\n",
       "      <td>231.10</td>\n",
       "      <td>231.11</td>\n",
       "      <td>0</td>\n",
       "    </tr>\n",
       "    <tr>\n",
       "      <th>...</th>\n",
       "      <td>...</td>\n",
       "      <td>...</td>\n",
       "      <td>...</td>\n",
       "      <td>...</td>\n",
       "    </tr>\n",
       "    <tr>\n",
       "      <th>33789996170.00</th>\n",
       "      <td>231.62</td>\n",
       "      <td>231.10</td>\n",
       "      <td>231.36</td>\n",
       "      <td>0</td>\n",
       "    </tr>\n",
       "    <tr>\n",
       "      <th>33789997247.00</th>\n",
       "      <td>231.50</td>\n",
       "      <td>231.36</td>\n",
       "      <td>231.43</td>\n",
       "      <td>0</td>\n",
       "    </tr>\n",
       "    <tr>\n",
       "      <th>3197020876596.00</th>\n",
       "      <td>230.43</td>\n",
       "      <td>231.10</td>\n",
       "      <td>230.77</td>\n",
       "      <td>0</td>\n",
       "    </tr>\n",
       "    <tr>\n",
       "      <th>337000037000919.00</th>\n",
       "      <td>231.28</td>\n",
       "      <td>231.22</td>\n",
       "      <td>231.25</td>\n",
       "      <td>0</td>\n",
       "    </tr>\n",
       "    <tr>\n",
       "      <th>882397108489451.00</th>\n",
       "      <td>230.48</td>\n",
       "      <td>231.53</td>\n",
       "      <td>231.00</td>\n",
       "      <td>0</td>\n",
       "    </tr>\n",
       "  </tbody>\n",
       "</table>\n",
       "<p>106856 rows × 4 columns</p>\n",
       "</div>"
      ],
      "text/plain": [
       "                    engagement_score  experience_score  satisfaction_score  \\\n",
       "MSISDN/Number                                                                \n",
       "33601001722.00                231.39            231.17              231.28   \n",
       "33601001754.00                231.55            230.01              230.78   \n",
       "33601002511.00                231.46            231.10              231.28   \n",
       "33601007832.00                231.66            231.10              231.38   \n",
       "33601008617.00                231.11            231.10              231.11   \n",
       "...                              ...               ...                 ...   \n",
       "33789996170.00                231.62            231.10              231.36   \n",
       "33789997247.00                231.50            231.36              231.43   \n",
       "3197020876596.00              230.43            231.10              230.77   \n",
       "337000037000919.00            231.28            231.22              231.25   \n",
       "882397108489451.00            230.48            231.53              231.00   \n",
       "\n",
       "                    cluster  \n",
       "MSISDN/Number                \n",
       "33601001722.00            0  \n",
       "33601001754.00            1  \n",
       "33601002511.00            0  \n",
       "33601007832.00            0  \n",
       "33601008617.00            0  \n",
       "...                     ...  \n",
       "33789996170.00            0  \n",
       "33789997247.00            0  \n",
       "3197020876596.00          0  \n",
       "337000037000919.00        0  \n",
       "882397108489451.00        0  \n",
       "\n",
       "[106856 rows x 4 columns]"
      ]
     },
     "execution_count": 134,
     "metadata": {},
     "output_type": "execute_result"
    }
   ],
   "source": [
    "# Attaching the cluster index from the previous clustering using the label data\n",
    "agg_df = df.copy(deep=True)\n",
    "agg_df['cluster'] = label\n",
    "agg_df"
   ]
  },
  {
   "cell_type": "code",
   "execution_count": 136,
   "id": "7a0f856f",
   "metadata": {},
   "outputs": [
    {
     "data": {
      "text/html": [
       "<div>\n",
       "<style scoped>\n",
       "    .dataframe tbody tr th:only-of-type {\n",
       "        vertical-align: middle;\n",
       "    }\n",
       "\n",
       "    .dataframe tbody tr th {\n",
       "        vertical-align: top;\n",
       "    }\n",
       "\n",
       "    .dataframe thead th {\n",
       "        text-align: right;\n",
       "    }\n",
       "</style>\n",
       "<table border=\"1\" class=\"dataframe\">\n",
       "  <thead>\n",
       "    <tr style=\"text-align: right;\">\n",
       "      <th></th>\n",
       "      <th>engagement_score</th>\n",
       "      <th>experience_score</th>\n",
       "      <th>satisfaction_score</th>\n",
       "    </tr>\n",
       "    <tr>\n",
       "      <th>cluster</th>\n",
       "      <th></th>\n",
       "      <th></th>\n",
       "      <th></th>\n",
       "    </tr>\n",
       "  </thead>\n",
       "  <tbody>\n",
       "    <tr>\n",
       "      <th>0</th>\n",
       "      <td>231.34</td>\n",
       "      <td>231.21</td>\n",
       "      <td>231.27</td>\n",
       "    </tr>\n",
       "    <tr>\n",
       "      <th>1</th>\n",
       "      <td>231.34</td>\n",
       "      <td>229.02</td>\n",
       "      <td>230.18</td>\n",
       "    </tr>\n",
       "  </tbody>\n",
       "</table>\n",
       "</div>"
      ],
      "text/plain": [
       "         engagement_score  experience_score  satisfaction_score\n",
       "cluster                                                        \n",
       "0                  231.34            231.21              231.27\n",
       "1                  231.34            229.02              230.18"
      ]
     },
     "execution_count": 136,
     "metadata": {},
     "output_type": "execute_result"
    }
   ],
   "source": [
    "agg_columns = {'engagement_score':'mean','experience_score':'mean','satisfaction_score':'mean'}\n",
    "#Group and Aggregate\n",
    "agg_df =agg_df.groupby('cluster').agg(agg_columns)\n",
    "#Saving the data\n",
    "res.add_data('statisfaction_agg_cluster',agg_df)\n",
    "#result\n",
    "agg_df"
   ]
  },
  {
   "cell_type": "code",
   "execution_count": null,
   "id": "9d18a183",
   "metadata": {},
   "outputs": [],
   "source": []
  }
 ],
 "metadata": {
  "kernelspec": {
   "display_name": "Python 3",
   "language": "python",
   "name": "python3"
  },
  "language_info": {
   "codemirror_mode": {
    "name": "ipython",
    "version": 3
   },
   "file_extension": ".py",
   "mimetype": "text/x-python",
   "name": "python",
   "nbconvert_exporter": "python",
   "pygments_lexer": "ipython3",
   "version": "3.8.8"
  }
 },
 "nbformat": 4,
 "nbformat_minor": 5
}
