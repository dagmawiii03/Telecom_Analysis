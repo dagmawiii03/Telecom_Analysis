{
 "cells": [
  {
   "cell_type": "code",
   "execution_count": 63,
   "id": "01b45cb0",
   "metadata": {},
   "outputs": [],
   "source": [
    "import sys\n",
    "sys.path.insert(0,'../scripts')"
   ]
  },
  {
   "cell_type": "code",
   "execution_count": 64,
   "id": "2e575c2d",
   "metadata": {},
   "outputs": [],
   "source": [
    "import pandas as pd\n",
    "import numpy as np\n",
    "import matplotlib.pyplot as plt\n",
    "from kneed import KneeLocator\n",
    "from sklearn.cluster import KMeans\n",
    "from sklearn.metrics.pairwise import euclidean_distances\n",
    "from sklearn.model_selection import train_test_split\n",
    "from sklearn.linear_model import Ridge\n",
    "from joblib import dump\n",
    "pd.set_option('max_column', None)\n",
    "pd.set_option('display.float_format', '{:.2f}'.format)\n",
    "%matplotlib inline"
   ]
  },
  {
   "cell_type": "code",
   "execution_count": 65,
   "id": "88535673",
   "metadata": {},
   "outputs": [],
   "source": [
    "from load_data import loader\n",
    "import sql_utils as sql\n",
    "from Result_picker import picker"
   ]
  },
  {
   "cell_type": "code",
   "execution_count": 66,
   "id": "411c99a9",
   "metadata": {},
   "outputs": [],
   "source": [
    "res = picker()"
   ]
  },
  {
   "cell_type": "markdown",
   "id": "bd5ee8d9",
   "metadata": {},
   "source": [
    "# Engagement score of each user"
   ]
  },
  {
   "cell_type": "code",
   "execution_count": 67,
   "id": "2256d280",
   "metadata": {
    "scrolled": true
   },
   "outputs": [
    {
     "data": {
      "text/html": [
       "<div>\n",
       "<style scoped>\n",
       "    .dataframe tbody tr th:only-of-type {\n",
       "        vertical-align: middle;\n",
       "    }\n",
       "\n",
       "    .dataframe tbody tr th {\n",
       "        vertical-align: top;\n",
       "    }\n",
       "\n",
       "    .dataframe thead th {\n",
       "        text-align: right;\n",
       "    }\n",
       "</style>\n",
       "<table border=\"1\" class=\"dataframe\">\n",
       "  <thead>\n",
       "    <tr style=\"text-align: right;\">\n",
       "      <th></th>\n",
       "      <th>Bearer Id</th>\n",
       "      <th>Total Duration (hr)</th>\n",
       "      <th>Total Data (MegaBytes)</th>\n",
       "    </tr>\n",
       "  </thead>\n",
       "  <tbody>\n",
       "    <tr>\n",
       "      <th>0</th>\n",
       "      <td>145.79</td>\n",
       "      <td>106.46</td>\n",
       "      <td>144.66</td>\n",
       "    </tr>\n",
       "    <tr>\n",
       "      <th>1</th>\n",
       "      <td>1.03</td>\n",
       "      <td>1.16</td>\n",
       "      <td>1.03</td>\n",
       "    </tr>\n",
       "    <tr>\n",
       "      <th>2</th>\n",
       "      <td>-0.34</td>\n",
       "      <td>-0.41</td>\n",
       "      <td>-0.34</td>\n",
       "    </tr>\n",
       "    <tr>\n",
       "      <th>3</th>\n",
       "      <td>2.06</td>\n",
       "      <td>2.84</td>\n",
       "      <td>2.07</td>\n",
       "    </tr>\n",
       "    <tr>\n",
       "      <th>4</th>\n",
       "      <td>0.17</td>\n",
       "      <td>0.20</td>\n",
       "      <td>0.17</td>\n",
       "    </tr>\n",
       "  </tbody>\n",
       "</table>\n",
       "</div>"
      ],
      "text/plain": [
       "   Bearer Id  Total Duration (hr)  Total Data (MegaBytes)\n",
       "0     145.79               106.46                  144.66\n",
       "1       1.03                 1.16                    1.03\n",
       "2      -0.34                -0.41                   -0.34\n",
       "3       2.06                 2.84                    2.07\n",
       "4       0.17                 0.20                    0.17"
      ]
     },
     "execution_count": 67,
     "metadata": {},
     "output_type": "execute_result"
    }
   ],
   "source": [
    "engagement_centroids = pd.read_csv('../data/engagement_centroid.csv')\n",
    "engagement_centroids = engagement_centroids.iloc[:,1:]\n",
    "engagement_centroids"
   ]
  },
  {
   "cell_type": "code",
   "execution_count": 87,
   "id": "4da49cb6",
   "metadata": {},
   "outputs": [
    {
     "data": {
      "text/html": [
       "<div>\n",
       "<style scoped>\n",
       "    .dataframe tbody tr th:only-of-type {\n",
       "        vertical-align: middle;\n",
       "    }\n",
       "\n",
       "    .dataframe tbody tr th {\n",
       "        vertical-align: top;\n",
       "    }\n",
       "\n",
       "    .dataframe thead th {\n",
       "        text-align: right;\n",
       "    }\n",
       "</style>\n",
       "<table border=\"1\" class=\"dataframe\">\n",
       "  <thead>\n",
       "    <tr style=\"text-align: right;\">\n",
       "      <th></th>\n",
       "      <th>Bearer Id</th>\n",
       "      <th>Total Duration (hr)</th>\n",
       "      <th>Total Data (MegaBytes)</th>\n",
       "    </tr>\n",
       "    <tr>\n",
       "      <th>MSISDN/Number</th>\n",
       "      <th></th>\n",
       "      <th></th>\n",
       "      <th></th>\n",
       "    </tr>\n",
       "  </thead>\n",
       "  <tbody>\n",
       "    <tr>\n",
       "      <th>33601001722.00</th>\n",
       "      <td>-0.12</td>\n",
       "      <td>-0.10</td>\n",
       "      <td>0.11</td>\n",
       "    </tr>\n",
       "    <tr>\n",
       "      <th>33601001754.00</th>\n",
       "      <td>-0.12</td>\n",
       "      <td>0.12</td>\n",
       "      <td>-0.32</td>\n",
       "    </tr>\n",
       "    <tr>\n",
       "      <th>33601002511.00</th>\n",
       "      <td>-0.12</td>\n",
       "      <td>-0.04</td>\n",
       "      <td>-0.06</td>\n",
       "    </tr>\n",
       "    <tr>\n",
       "      <th>33601007832.00</th>\n",
       "      <td>-0.12</td>\n",
       "      <td>-0.33</td>\n",
       "      <td>-0.16</td>\n",
       "    </tr>\n",
       "    <tr>\n",
       "      <th>33601008617.00</th>\n",
       "      <td>0.18</td>\n",
       "      <td>-0.38</td>\n",
       "      <td>0.45</td>\n",
       "    </tr>\n",
       "  </tbody>\n",
       "</table>\n",
       "</div>"
      ],
      "text/plain": [
       "                Bearer Id  Total Duration (hr)  Total Data (MegaBytes)\n",
       "MSISDN/Number                                                         \n",
       "33601001722.00      -0.12                -0.10                    0.11\n",
       "33601001754.00      -0.12                 0.12                   -0.32\n",
       "33601002511.00      -0.12                -0.04                   -0.06\n",
       "33601007832.00      -0.12                -0.33                   -0.16\n",
       "33601008617.00       0.18                -0.38                    0.45"
      ]
     },
     "execution_count": 87,
     "metadata": {},
     "output_type": "execute_result"
    }
   ],
   "source": [
    "engagement_metrics = pd.read_csv('../data/engagement_cluster.csv')\n",
    "engagement_metrics.index = engagement_metrics['MSISDN/Number']\n",
    "engagement_metrics = engagement_metrics.iloc[:,1:4]\n",
    "engagement_metrics.head()"
   ]
  },
  {
   "cell_type": "code",
   "execution_count": 92,
   "id": "b4873810",
   "metadata": {},
   "outputs": [
    {
     "data": {
      "text/plain": [
       "array([[231.38738809],\n",
       "       [231.55088615],\n",
       "       [231.46246656],\n",
       "       ...,\n",
       "       [230.4293563 ],\n",
       "       [231.27513087],\n",
       "       [230.47554266]])"
      ]
     },
     "execution_count": 92,
     "metadata": {},
     "output_type": "execute_result"
    }
   ],
   "source": [
    "engagement_score = euclidean_distances(engagement_metrics.values.tolist(),[engagement_centroids.values.tolist()[0]])\n",
    "engagement_score"
   ]
  },
  {
   "cell_type": "code",
   "execution_count": 93,
   "id": "4ed61c45",
   "metadata": {},
   "outputs": [
    {
     "data": {
      "text/plain": [
       "[231.3873880913362, 231.55088615150737]"
      ]
     },
     "execution_count": 93,
     "metadata": {},
     "output_type": "execute_result"
    }
   ],
   "source": [
    "engagement_score = [val[0] for val in engagement_score.tolist()]\n",
    "engagement_score[:2]"
   ]
  },
  {
   "cell_type": "markdown",
   "id": "98e79cb6",
   "metadata": {},
   "source": [
    "# Experience "
   ]
  },
  {
   "cell_type": "code",
   "execution_count": 94,
   "id": "60a2abcf",
   "metadata": {},
   "outputs": [
    {
     "data": {
      "text/html": [
       "<div>\n",
       "<style scoped>\n",
       "    .dataframe tbody tr th:only-of-type {\n",
       "        vertical-align: middle;\n",
       "    }\n",
       "\n",
       "    .dataframe tbody tr th {\n",
       "        vertical-align: top;\n",
       "    }\n",
       "\n",
       "    .dataframe thead th {\n",
       "        text-align: right;\n",
       "    }\n",
       "</style>\n",
       "<table border=\"1\" class=\"dataframe\">\n",
       "  <thead>\n",
       "    <tr style=\"text-align: right;\">\n",
       "      <th></th>\n",
       "      <th>Bearer Id</th>\n",
       "      <th>Total Duration (hr)</th>\n",
       "      <th>Total Data (MegaBytes)</th>\n",
       "    </tr>\n",
       "  </thead>\n",
       "  <tbody>\n",
       "    <tr>\n",
       "      <th>0</th>\n",
       "      <td>145.79</td>\n",
       "      <td>106.46</td>\n",
       "      <td>144.66</td>\n",
       "    </tr>\n",
       "    <tr>\n",
       "      <th>1</th>\n",
       "      <td>1.03</td>\n",
       "      <td>1.16</td>\n",
       "      <td>1.03</td>\n",
       "    </tr>\n",
       "    <tr>\n",
       "      <th>2</th>\n",
       "      <td>-0.34</td>\n",
       "      <td>-0.41</td>\n",
       "      <td>-0.34</td>\n",
       "    </tr>\n",
       "    <tr>\n",
       "      <th>3</th>\n",
       "      <td>2.06</td>\n",
       "      <td>2.84</td>\n",
       "      <td>2.07</td>\n",
       "    </tr>\n",
       "    <tr>\n",
       "      <th>4</th>\n",
       "      <td>0.17</td>\n",
       "      <td>0.20</td>\n",
       "      <td>0.17</td>\n",
       "    </tr>\n",
       "  </tbody>\n",
       "</table>\n",
       "</div>"
      ],
      "text/plain": [
       "   Bearer Id  Total Duration (hr)  Total Data (MegaBytes)\n",
       "0     145.79               106.46                  144.66\n",
       "1       1.03                 1.16                    1.03\n",
       "2      -0.34                -0.41                   -0.34\n",
       "3       2.06                 2.84                    2.07\n",
       "4       0.17                 0.20                    0.17"
      ]
     },
     "execution_count": 94,
     "metadata": {},
     "output_type": "execute_result"
    }
   ],
   "source": [
    "experience_centroids = pd.read_csv('../data/engagement_centroid.csv')\n",
    "experience_centroids = experience_centroids.iloc[:,1:]\n",
    "experience_centroids"
   ]
  },
  {
   "cell_type": "code",
   "execution_count": 99,
   "id": "cecd0795",
   "metadata": {
    "scrolled": true
   },
   "outputs": [
    {
     "data": {
      "text/html": [
       "<div>\n",
       "<style scoped>\n",
       "    .dataframe tbody tr th:only-of-type {\n",
       "        vertical-align: middle;\n",
       "    }\n",
       "\n",
       "    .dataframe tbody tr th {\n",
       "        vertical-align: top;\n",
       "    }\n",
       "\n",
       "    .dataframe thead th {\n",
       "        text-align: right;\n",
       "    }\n",
       "</style>\n",
       "<table border=\"1\" class=\"dataframe\">\n",
       "  <thead>\n",
       "    <tr style=\"text-align: right;\">\n",
       "      <th></th>\n",
       "      <th>Avg Delay (ms)</th>\n",
       "      <th>Avg Throughput (kbps)</th>\n",
       "      <th>cluster</th>\n",
       "    </tr>\n",
       "    <tr>\n",
       "      <th>MSISDN/Number</th>\n",
       "      <th></th>\n",
       "      <th></th>\n",
       "      <th></th>\n",
       "    </tr>\n",
       "  </thead>\n",
       "  <tbody>\n",
       "    <tr>\n",
       "      <th>33601001722.00</th>\n",
       "      <td>-0.34</td>\n",
       "      <td>-0.54</td>\n",
       "      <td>1</td>\n",
       "    </tr>\n",
       "    <tr>\n",
       "      <th>33601001754.00</th>\n",
       "      <td>0.52</td>\n",
       "      <td>-0.54</td>\n",
       "      <td>2</td>\n",
       "    </tr>\n",
       "    <tr>\n",
       "      <th>33601002511.00</th>\n",
       "      <td>-0.23</td>\n",
       "      <td>-0.54</td>\n",
       "      <td>1</td>\n",
       "    </tr>\n",
       "    <tr>\n",
       "      <th>33601007832.00</th>\n",
       "      <td>-0.23</td>\n",
       "      <td>-0.53</td>\n",
       "      <td>1</td>\n",
       "    </tr>\n",
       "    <tr>\n",
       "      <th>33601008617.00</th>\n",
       "      <td>-0.23</td>\n",
       "      <td>-0.54</td>\n",
       "      <td>1</td>\n",
       "    </tr>\n",
       "  </tbody>\n",
       "</table>\n",
       "</div>"
      ],
      "text/plain": [
       "                Avg Delay (ms)  Avg Throughput (kbps)  cluster\n",
       "MSISDN/Number                                                 \n",
       "33601001722.00           -0.34                  -0.54        1\n",
       "33601001754.00            0.52                  -0.54        2\n",
       "33601002511.00           -0.23                  -0.54        1\n",
       "33601007832.00           -0.23                  -0.53        1\n",
       "33601008617.00           -0.23                  -0.54        1"
      ]
     },
     "execution_count": 99,
     "metadata": {},
     "output_type": "execute_result"
    }
   ],
   "source": [
    "experience_metrics = pd.read_csv('../data/experience_cluster.csv')\n",
    "experience_metrics.index = experience_metrics['MSISDN/Number']\n",
    "experience_metrics = experience_metrics.iloc[:106856,1:4]\n",
    "experience_metrics.head()"
   ]
  },
  {
   "cell_type": "code",
   "execution_count": 107,
   "id": "0ba53579",
   "metadata": {
    "scrolled": true
   },
   "outputs": [
    {
     "data": {
      "text/plain": [
       "array([[231.1697678 ],\n",
       "       [230.00832063],\n",
       "       [231.10096659],\n",
       "       ...,\n",
       "       [231.10096659],\n",
       "       [231.21656219],\n",
       "       [231.53241121]])"
      ]
     },
     "execution_count": 107,
     "metadata": {},
     "output_type": "execute_result"
    }
   ],
   "source": [
    "experience_score = euclidean_distances(experience_metrics.values.tolist(),[experience_centroids.values.tolist()[0]])\n",
    "experience_score"
   ]
  },
  {
   "cell_type": "code",
   "execution_count": 108,
   "id": "8822261a",
   "metadata": {},
   "outputs": [
    {
     "data": {
      "text/plain": [
       "[231.1697677999321, 230.00832063158995]"
      ]
     },
     "execution_count": 108,
     "metadata": {},
     "output_type": "execute_result"
    }
   ],
   "source": [
    "experience_score = [val[0] for val in experience_score.tolist()]\n",
    "experience_score[:2]"
   ]
  },
  {
   "cell_type": "markdown",
   "id": "3fb351ed",
   "metadata": {},
   "source": [
    "# Satisfing score based on engagement and experience"
   ]
  },
  {
   "cell_type": "code",
   "execution_count": 110,
   "id": "dd4df38b",
   "metadata": {},
   "outputs": [
    {
     "data": {
      "text/html": [
       "<div>\n",
       "<style scoped>\n",
       "    .dataframe tbody tr th:only-of-type {\n",
       "        vertical-align: middle;\n",
       "    }\n",
       "\n",
       "    .dataframe tbody tr th {\n",
       "        vertical-align: top;\n",
       "    }\n",
       "\n",
       "    .dataframe thead th {\n",
       "        text-align: right;\n",
       "    }\n",
       "</style>\n",
       "<table border=\"1\" class=\"dataframe\">\n",
       "  <thead>\n",
       "    <tr style=\"text-align: right;\">\n",
       "      <th></th>\n",
       "      <th>engagement_score</th>\n",
       "      <th>experience_score</th>\n",
       "    </tr>\n",
       "    <tr>\n",
       "      <th>MSISDN/Number</th>\n",
       "      <th></th>\n",
       "      <th></th>\n",
       "    </tr>\n",
       "  </thead>\n",
       "  <tbody>\n",
       "    <tr>\n",
       "      <th>33601001722.00</th>\n",
       "      <td>231.39</td>\n",
       "      <td>231.17</td>\n",
       "    </tr>\n",
       "    <tr>\n",
       "      <th>33601001754.00</th>\n",
       "      <td>231.55</td>\n",
       "      <td>230.01</td>\n",
       "    </tr>\n",
       "    <tr>\n",
       "      <th>33601002511.00</th>\n",
       "      <td>231.46</td>\n",
       "      <td>231.10</td>\n",
       "    </tr>\n",
       "    <tr>\n",
       "      <th>33601007832.00</th>\n",
       "      <td>231.66</td>\n",
       "      <td>231.10</td>\n",
       "    </tr>\n",
       "    <tr>\n",
       "      <th>33601008617.00</th>\n",
       "      <td>231.11</td>\n",
       "      <td>231.10</td>\n",
       "    </tr>\n",
       "  </tbody>\n",
       "</table>\n",
       "</div>"
      ],
      "text/plain": [
       "                engagement_score  experience_score\n",
       "MSISDN/Number                                     \n",
       "33601001722.00            231.39            231.17\n",
       "33601001754.00            231.55            230.01\n",
       "33601002511.00            231.46            231.10\n",
       "33601007832.00            231.66            231.10\n",
       "33601008617.00            231.11            231.10"
      ]
     },
     "execution_count": 110,
     "metadata": {},
     "output_type": "execute_result"
    }
   ],
   "source": [
    "df = pd.DataFrame()\n",
    "df['engagement_score'] = engagement_score\n",
    "df['experience_score'] = experience_score\n",
    "df.index = engagement_metrics.index\n",
    "#result\n",
    "df.head()"
   ]
  },
  {
   "cell_type": "code",
   "execution_count": 111,
   "id": "9bebf268",
   "metadata": {},
   "outputs": [
    {
     "data": {
      "text/html": [
       "<div>\n",
       "<style scoped>\n",
       "    .dataframe tbody tr th:only-of-type {\n",
       "        vertical-align: middle;\n",
       "    }\n",
       "\n",
       "    .dataframe tbody tr th {\n",
       "        vertical-align: top;\n",
       "    }\n",
       "\n",
       "    .dataframe thead th {\n",
       "        text-align: right;\n",
       "    }\n",
       "</style>\n",
       "<table border=\"1\" class=\"dataframe\">\n",
       "  <thead>\n",
       "    <tr style=\"text-align: right;\">\n",
       "      <th></th>\n",
       "      <th>engagement_score</th>\n",
       "      <th>experience_score</th>\n",
       "      <th>satisfaction_score</th>\n",
       "    </tr>\n",
       "    <tr>\n",
       "      <th>MSISDN/Number</th>\n",
       "      <th></th>\n",
       "      <th></th>\n",
       "      <th></th>\n",
       "    </tr>\n",
       "  </thead>\n",
       "  <tbody>\n",
       "    <tr>\n",
       "      <th>33601001722.00</th>\n",
       "      <td>231.39</td>\n",
       "      <td>231.17</td>\n",
       "      <td>231.28</td>\n",
       "    </tr>\n",
       "    <tr>\n",
       "      <th>33601001754.00</th>\n",
       "      <td>231.55</td>\n",
       "      <td>230.01</td>\n",
       "      <td>230.78</td>\n",
       "    </tr>\n",
       "    <tr>\n",
       "      <th>33601002511.00</th>\n",
       "      <td>231.46</td>\n",
       "      <td>231.10</td>\n",
       "      <td>231.28</td>\n",
       "    </tr>\n",
       "    <tr>\n",
       "      <th>33601007832.00</th>\n",
       "      <td>231.66</td>\n",
       "      <td>231.10</td>\n",
       "      <td>231.38</td>\n",
       "    </tr>\n",
       "    <tr>\n",
       "      <th>33601008617.00</th>\n",
       "      <td>231.11</td>\n",
       "      <td>231.10</td>\n",
       "      <td>231.11</td>\n",
       "    </tr>\n",
       "  </tbody>\n",
       "</table>\n",
       "</div>"
      ],
      "text/plain": [
       "                engagement_score  experience_score  satisfaction_score\n",
       "MSISDN/Number                                                         \n",
       "33601001722.00            231.39            231.17              231.28\n",
       "33601001754.00            231.55            230.01              230.78\n",
       "33601002511.00            231.46            231.10              231.28\n",
       "33601007832.00            231.66            231.10              231.38\n",
       "33601008617.00            231.11            231.10              231.11"
      ]
     },
     "execution_count": 111,
     "metadata": {},
     "output_type": "execute_result"
    }
   ],
   "source": [
    "#taking the average of engagement and experience for satisfaction scor\n",
    "df['satisfaction_score'] = (df['engagement_score'] + df['experience_score'])/2\n",
    "df.head()"
   ]
  },
  {
   "cell_type": "code",
   "execution_count": null,
   "id": "69ef6c5a",
   "metadata": {},
   "outputs": [],
   "source": []
  }
 ],
 "metadata": {
  "kernelspec": {
   "display_name": "Python 3",
   "language": "python",
   "name": "python3"
  },
  "language_info": {
   "codemirror_mode": {
    "name": "ipython",
    "version": 3
   },
   "file_extension": ".py",
   "mimetype": "text/x-python",
   "name": "python",
   "nbconvert_exporter": "python",
   "pygments_lexer": "ipython3",
   "version": "3.8.8"
  }
 },
 "nbformat": 4,
 "nbformat_minor": 5
}
